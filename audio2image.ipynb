{
 "cells": [
  {
   "metadata": {},
   "cell_type": "markdown",
   "source": [
    "## Audio2Image\n",
    "\n",
    "Run this notebook to train the model"
   ],
   "id": "81b47289d810c7ca"
  },
  {
   "metadata": {
    "ExecuteTime": {
     "end_time": "2024-04-22T18:35:34.639159Z",
     "start_time": "2024-04-22T18:35:28.581356Z"
    }
   },
   "cell_type": "code",
   "source": "!pip install PySoundFile",
   "id": "9ed6448655234ad0",
   "outputs": [
    {
     "name": "stdout",
     "output_type": "stream",
     "text": [
      "Requirement already satisfied: PySoundFile in c:\\users\\rishav roy\\miniconda3\\lib\\site-packages (0.9.0.post1)\n",
      "Requirement already satisfied: cffi>=0.6 in c:\\users\\rishav roy\\miniconda3\\lib\\site-packages (from PySoundFile) (1.16.0)\n",
      "Requirement already satisfied: pycparser in c:\\users\\rishav roy\\miniconda3\\lib\\site-packages (from cffi>=0.6->PySoundFile) (2.21)\n"
     ]
    }
   ],
   "execution_count": 19
  },
  {
   "metadata": {
    "ExecuteTime": {
     "end_time": "2024-04-22T18:49:08.204887Z",
     "start_time": "2024-04-22T18:49:08.191500Z"
    }
   },
   "cell_type": "code",
   "source": [
    "import torch\n",
    "import torchaudio\n",
    "import torchvision\n",
    "import pandas as pd\n",
    "from PIL import Image\n",
    "from torch.utils.data import Dataset"
   ],
   "id": "bcf0a619a1613ad7",
   "outputs": [],
   "execution_count": 70
  },
  {
   "metadata": {},
   "cell_type": "markdown",
   "source": "### Step 1: Create Dataset and DataLoader",
   "id": "47775be7939979f3"
  },
  {
   "metadata": {
    "ExecuteTime": {
     "end_time": "2024-04-22T18:49:08.791788Z",
     "start_time": "2024-04-22T18:49:08.784674Z"
    }
   },
   "cell_type": "code",
   "source": [
    "IMG_TRANSFORM = torchvision.transforms.Compose([\n",
    "    torchvision.transforms.Resize((256, 256)),\n",
    "    torchvision.transforms.ToTensor()\n",
    "])"
   ],
   "id": "30bda34acf377236",
   "outputs": [],
   "execution_count": 71
  },
  {
   "metadata": {
    "ExecuteTime": {
     "end_time": "2024-04-22T18:49:09.115512Z",
     "start_time": "2024-04-22T18:49:09.107300Z"
    }
   },
   "cell_type": "code",
   "source": [
    "NEW_COLUMN_NAMES = {\n",
    "    '---g-f_I2yQ': 'youtube_video_id',\n",
    "    '1': 'start_seconds',\n",
    "    'people marching': 'label',\n",
    "    'test': 'split',\n",
    "}"
   ],
   "id": "d687d8b775994fc2",
   "outputs": [],
   "execution_count": 72
  },
  {
   "metadata": {
    "ExecuteTime": {
     "end_time": "2024-04-22T19:03:15.228307Z",
     "start_time": "2024-04-22T19:03:15.204203Z"
    }
   },
   "cell_type": "code",
   "source": [
    "class AudioDataset(Dataset):\n",
    "    def __init__(self, csv_file, audio_dir, img_dir, img_transform=None, embeddings=None):\n",
    "        self.audio_dir = audio_dir\n",
    "        self.img_dir = img_dir\n",
    "        self.img_transform = img_transform\n",
    "        self.embeddings = embeddings\n",
    "        self.df = pd.read_csv(csv_file)\n",
    "        self.rename_columns()\n",
    "        self.add_columns()\n",
    "        self.remove_invalid_rows()\n",
    "\n",
    "    @staticmethod\n",
    "    def check_validity(image_path):\n",
    "        try:\n",
    "            Image.open(image_path)\n",
    "            return True\n",
    "        except:\n",
    "            return False\n",
    "\n",
    "    def remove_invalid_rows(self):\n",
    "        self.df['is_valid'] = self.df['img_path'].apply(AudioDataset.check_validity)\n",
    "        self.df = self.df[self.df['is_valid'] == True]\n",
    "        self.df = self.df.drop(columns=['is_valid'])\n",
    "\n",
    "    def rename_columns(self):\n",
    "        self.df.rename(columns=NEW_COLUMN_NAMES, inplace=True)\n",
    "\n",
    "    def add_columns(self):\n",
    "        self.df['audio_path'] = self.df['youtube_video_id'].apply(\n",
    "            lambda x: self.audio_dir + '/' + 'audio_' + x + '.wav')\n",
    "        self.df['img_path'] = self.df['youtube_video_id'].apply(lambda x: self.img_dir + '/' + 'image_' + x + '.jpg')\n",
    "\n",
    "    def __len__(self):\n",
    "        return len(self.df)\n",
    "\n",
    "    def __getitem__(self, idx):\n",
    "        print(f\"Index is {idx}\")\n",
    "        if idx >= len(self.df):\n",
    "            return None, None\n",
    "        \n",
    "        if torch.is_tensor(idx):\n",
    "            idx = idx.tolist()\n",
    "        else:\n",
    "            idx = [idx]\n",
    "        audio_path = self.df.loc[idx, 'audio_path'].values[0]\n",
    "        waveform, sample_rate = torchaudio.load(audio_path, normalize=True)\n",
    "        transform = torchaudio.transforms.Resample(sample_rate, sample_rate / 10)\n",
    "        waveform = transform(waveform)\n",
    "\n",
    "        img_path = self.df.loc[idx, 'img_path'].values[0]\n",
    "        img = Image.open(img_path)\n",
    "\n",
    "        if self.img_transform is not None:\n",
    "            img = self.img_transform(img)\n",
    "\n",
    "        if self.embeddings is not None:\n",
    "            waveform = self.embeddings(waveform)\n",
    "\n",
    "        return waveform, img"
   ],
   "id": "375cfca40a74a166",
   "outputs": [],
   "execution_count": 119
  },
  {
   "metadata": {
    "ExecuteTime": {
     "end_time": "2024-04-22T19:03:15.592470Z",
     "start_time": "2024-04-22T19:03:15.585764Z"
    }
   },
   "cell_type": "code",
   "source": [
    "CSV_FILE = './vggsound.csv'\n",
    "AUDIO_DIR = './data/audio'\n",
    "IMG_DIR = './data/image'"
   ],
   "id": "572ad207ccd47bfd",
   "outputs": [],
   "execution_count": 120
  },
  {
   "metadata": {
    "ExecuteTime": {
     "end_time": "2024-04-22T19:03:23.467663Z",
     "start_time": "2024-04-22T19:03:15.945812Z"
    }
   },
   "cell_type": "code",
   "source": "audio2image_dataset = AudioDataset(CSV_FILE, AUDIO_DIR, IMG_DIR, IMG_TRANSFORM)",
   "id": "7d92a70d884be8ef",
   "outputs": [],
   "execution_count": 121
  },
  {
   "metadata": {
    "ExecuteTime": {
     "end_time": "2024-04-22T19:03:23.476265Z",
     "start_time": "2024-04-22T19:03:23.470685Z"
    }
   },
   "cell_type": "code",
   "source": "BATCH_SIZE = 1",
   "id": "6939bf8f0085bdb0",
   "outputs": [],
   "execution_count": 122
  },
  {
   "metadata": {
    "ExecuteTime": {
     "end_time": "2024-04-22T19:03:23.487244Z",
     "start_time": "2024-04-22T19:03:23.478278Z"
    }
   },
   "cell_type": "code",
   "source": "audio2image_dataloader = torch.utils.data.DataLoader(audio2image_dataset, batch_size=BATCH_SIZE, shuffle=True)",
   "id": "6e49cb975cb0fc8d",
   "outputs": [],
   "execution_count": 123
  },
  {
   "metadata": {
    "ExecuteTime": {
     "end_time": "2024-04-22T19:05:56.854837Z",
     "start_time": "2024-04-22T19:05:56.544042Z"
    }
   },
   "cell_type": "code",
   "source": [
    "for wave, image in audio2image_dataloader:\n",
    "    print(wave)\n",
    "    print(image)"
   ],
   "id": "8f993c1df0fc9689",
   "outputs": [
    {
     "name": "stdout",
     "output_type": "stream",
     "text": [
      "Index is 0\n",
      "tensor([[[-0.0183, -0.0491, -0.0259,  ...,  0.0666,  0.0817,  0.0243],\n",
      "         [-0.0183, -0.0491, -0.0259,  ...,  0.0666,  0.0817,  0.0243]]])\n",
      "tensor([[[[0.2353, 0.2314, 0.2353,  ..., 0.3020, 0.3176, 0.3176],\n",
      "          [0.2510, 0.2471, 0.2431,  ..., 0.3059, 0.3216, 0.3216],\n",
      "          [0.2627, 0.2588, 0.2588,  ..., 0.3176, 0.3294, 0.3294],\n",
      "          ...,\n",
      "          [0.1608, 0.1608, 0.1608,  ..., 0.0745, 0.0784, 0.0863],\n",
      "          [0.1608, 0.1608, 0.1608,  ..., 0.0706, 0.0745, 0.0863],\n",
      "          [0.1647, 0.1647, 0.1647,  ..., 0.0706, 0.0745, 0.0824]],\n",
      "\n",
      "         [[0.2314, 0.2275, 0.2314,  ..., 0.2510, 0.2667, 0.2667],\n",
      "          [0.2510, 0.2471, 0.2431,  ..., 0.2588, 0.2745, 0.2745],\n",
      "          [0.2627, 0.2588, 0.2588,  ..., 0.2745, 0.2863, 0.2863],\n",
      "          ...,\n",
      "          [0.1804, 0.1804, 0.1804,  ..., 0.0706, 0.0745, 0.0824],\n",
      "          [0.1804, 0.1804, 0.1804,  ..., 0.0667, 0.0706, 0.0824],\n",
      "          [0.1843, 0.1843, 0.1843,  ..., 0.0667, 0.0706, 0.0784]],\n",
      "\n",
      "         [[0.2118, 0.2078, 0.2118,  ..., 0.2275, 0.2431, 0.2431],\n",
      "          [0.2235, 0.2196, 0.2157,  ..., 0.2353, 0.2510, 0.2510],\n",
      "          [0.2314, 0.2275, 0.2275,  ..., 0.2510, 0.2627, 0.2627],\n",
      "          ...,\n",
      "          [0.1961, 0.1961, 0.1961,  ..., 0.0627, 0.0667, 0.0745],\n",
      "          [0.1961, 0.1961, 0.1961,  ..., 0.0588, 0.0627, 0.0745],\n",
      "          [0.2000, 0.2000, 0.2000,  ..., 0.0588, 0.0627, 0.0706]]]])\n",
      "Index is 2\n"
     ]
    },
    {
     "ename": "KeyError",
     "evalue": "\"None of [Index([2], dtype='int32')] are in the [index]\"",
     "output_type": "error",
     "traceback": [
      "\u001B[1;31m---------------------------------------------------------------------------\u001B[0m",
      "\u001B[1;31mKeyError\u001B[0m                                  Traceback (most recent call last)",
      "Cell \u001B[1;32mIn[129], line 1\u001B[0m\n\u001B[1;32m----> 1\u001B[0m \u001B[38;5;28;01mfor\u001B[39;00m wave, image \u001B[38;5;129;01min\u001B[39;00m audio2image_dataloader:\n\u001B[0;32m      2\u001B[0m     \u001B[38;5;28mprint\u001B[39m(wave)\n\u001B[0;32m      3\u001B[0m     \u001B[38;5;28mprint\u001B[39m(image)\n",
      "File \u001B[1;32m~\\miniconda3\\Lib\\site-packages\\torch\\utils\\data\\dataloader.py:631\u001B[0m, in \u001B[0;36m_BaseDataLoaderIter.__next__\u001B[1;34m(self)\u001B[0m\n\u001B[0;32m    628\u001B[0m \u001B[38;5;28;01mif\u001B[39;00m \u001B[38;5;28mself\u001B[39m\u001B[38;5;241m.\u001B[39m_sampler_iter \u001B[38;5;129;01mis\u001B[39;00m \u001B[38;5;28;01mNone\u001B[39;00m:\n\u001B[0;32m    629\u001B[0m     \u001B[38;5;66;03m# TODO(https://github.com/pytorch/pytorch/issues/76750)\u001B[39;00m\n\u001B[0;32m    630\u001B[0m     \u001B[38;5;28mself\u001B[39m\u001B[38;5;241m.\u001B[39m_reset()  \u001B[38;5;66;03m# type: ignore[call-arg]\u001B[39;00m\n\u001B[1;32m--> 631\u001B[0m data \u001B[38;5;241m=\u001B[39m \u001B[38;5;28mself\u001B[39m\u001B[38;5;241m.\u001B[39m_next_data()\n\u001B[0;32m    632\u001B[0m \u001B[38;5;28mself\u001B[39m\u001B[38;5;241m.\u001B[39m_num_yielded \u001B[38;5;241m+\u001B[39m\u001B[38;5;241m=\u001B[39m \u001B[38;5;241m1\u001B[39m\n\u001B[0;32m    633\u001B[0m \u001B[38;5;28;01mif\u001B[39;00m \u001B[38;5;28mself\u001B[39m\u001B[38;5;241m.\u001B[39m_dataset_kind \u001B[38;5;241m==\u001B[39m _DatasetKind\u001B[38;5;241m.\u001B[39mIterable \u001B[38;5;129;01mand\u001B[39;00m \\\n\u001B[0;32m    634\u001B[0m         \u001B[38;5;28mself\u001B[39m\u001B[38;5;241m.\u001B[39m_IterableDataset_len_called \u001B[38;5;129;01mis\u001B[39;00m \u001B[38;5;129;01mnot\u001B[39;00m \u001B[38;5;28;01mNone\u001B[39;00m \u001B[38;5;129;01mand\u001B[39;00m \\\n\u001B[0;32m    635\u001B[0m         \u001B[38;5;28mself\u001B[39m\u001B[38;5;241m.\u001B[39m_num_yielded \u001B[38;5;241m>\u001B[39m \u001B[38;5;28mself\u001B[39m\u001B[38;5;241m.\u001B[39m_IterableDataset_len_called:\n",
      "File \u001B[1;32m~\\miniconda3\\Lib\\site-packages\\torch\\utils\\data\\dataloader.py:675\u001B[0m, in \u001B[0;36m_SingleProcessDataLoaderIter._next_data\u001B[1;34m(self)\u001B[0m\n\u001B[0;32m    673\u001B[0m \u001B[38;5;28;01mdef\u001B[39;00m \u001B[38;5;21m_next_data\u001B[39m(\u001B[38;5;28mself\u001B[39m):\n\u001B[0;32m    674\u001B[0m     index \u001B[38;5;241m=\u001B[39m \u001B[38;5;28mself\u001B[39m\u001B[38;5;241m.\u001B[39m_next_index()  \u001B[38;5;66;03m# may raise StopIteration\u001B[39;00m\n\u001B[1;32m--> 675\u001B[0m     data \u001B[38;5;241m=\u001B[39m \u001B[38;5;28mself\u001B[39m\u001B[38;5;241m.\u001B[39m_dataset_fetcher\u001B[38;5;241m.\u001B[39mfetch(index)  \u001B[38;5;66;03m# may raise StopIteration\u001B[39;00m\n\u001B[0;32m    676\u001B[0m     \u001B[38;5;28;01mif\u001B[39;00m \u001B[38;5;28mself\u001B[39m\u001B[38;5;241m.\u001B[39m_pin_memory:\n\u001B[0;32m    677\u001B[0m         data \u001B[38;5;241m=\u001B[39m _utils\u001B[38;5;241m.\u001B[39mpin_memory\u001B[38;5;241m.\u001B[39mpin_memory(data, \u001B[38;5;28mself\u001B[39m\u001B[38;5;241m.\u001B[39m_pin_memory_device)\n",
      "File \u001B[1;32m~\\miniconda3\\Lib\\site-packages\\torch\\utils\\data\\_utils\\fetch.py:51\u001B[0m, in \u001B[0;36m_MapDatasetFetcher.fetch\u001B[1;34m(self, possibly_batched_index)\u001B[0m\n\u001B[0;32m     49\u001B[0m         data \u001B[38;5;241m=\u001B[39m \u001B[38;5;28mself\u001B[39m\u001B[38;5;241m.\u001B[39mdataset\u001B[38;5;241m.\u001B[39m__getitems__(possibly_batched_index)\n\u001B[0;32m     50\u001B[0m     \u001B[38;5;28;01melse\u001B[39;00m:\n\u001B[1;32m---> 51\u001B[0m         data \u001B[38;5;241m=\u001B[39m [\u001B[38;5;28mself\u001B[39m\u001B[38;5;241m.\u001B[39mdataset[idx] \u001B[38;5;28;01mfor\u001B[39;00m idx \u001B[38;5;129;01min\u001B[39;00m possibly_batched_index]\n\u001B[0;32m     52\u001B[0m \u001B[38;5;28;01melse\u001B[39;00m:\n\u001B[0;32m     53\u001B[0m     data \u001B[38;5;241m=\u001B[39m \u001B[38;5;28mself\u001B[39m\u001B[38;5;241m.\u001B[39mdataset[possibly_batched_index]\n",
      "Cell \u001B[1;32mIn[119], line 45\u001B[0m, in \u001B[0;36mAudioDataset.__getitem__\u001B[1;34m(self, idx)\u001B[0m\n\u001B[0;32m     43\u001B[0m \u001B[38;5;28;01melse\u001B[39;00m:\n\u001B[0;32m     44\u001B[0m     idx \u001B[38;5;241m=\u001B[39m [idx]\n\u001B[1;32m---> 45\u001B[0m audio_path \u001B[38;5;241m=\u001B[39m \u001B[38;5;28mself\u001B[39m\u001B[38;5;241m.\u001B[39mdf\u001B[38;5;241m.\u001B[39mloc[idx, \u001B[38;5;124m'\u001B[39m\u001B[38;5;124maudio_path\u001B[39m\u001B[38;5;124m'\u001B[39m]\u001B[38;5;241m.\u001B[39mvalues[\u001B[38;5;241m0\u001B[39m]\n\u001B[0;32m     46\u001B[0m waveform, sample_rate \u001B[38;5;241m=\u001B[39m torchaudio\u001B[38;5;241m.\u001B[39mload(audio_path, normalize\u001B[38;5;241m=\u001B[39m\u001B[38;5;28;01mTrue\u001B[39;00m)\n\u001B[0;32m     47\u001B[0m transform \u001B[38;5;241m=\u001B[39m torchaudio\u001B[38;5;241m.\u001B[39mtransforms\u001B[38;5;241m.\u001B[39mResample(sample_rate, sample_rate \u001B[38;5;241m/\u001B[39m \u001B[38;5;241m10\u001B[39m)\n",
      "File \u001B[1;32m~\\miniconda3\\Lib\\site-packages\\pandas\\core\\indexing.py:1184\u001B[0m, in \u001B[0;36m_LocationIndexer.__getitem__\u001B[1;34m(self, key)\u001B[0m\n\u001B[0;32m   1182\u001B[0m     \u001B[38;5;28;01mif\u001B[39;00m \u001B[38;5;28mself\u001B[39m\u001B[38;5;241m.\u001B[39m_is_scalar_access(key):\n\u001B[0;32m   1183\u001B[0m         \u001B[38;5;28;01mreturn\u001B[39;00m \u001B[38;5;28mself\u001B[39m\u001B[38;5;241m.\u001B[39mobj\u001B[38;5;241m.\u001B[39m_get_value(\u001B[38;5;241m*\u001B[39mkey, takeable\u001B[38;5;241m=\u001B[39m\u001B[38;5;28mself\u001B[39m\u001B[38;5;241m.\u001B[39m_takeable)\n\u001B[1;32m-> 1184\u001B[0m     \u001B[38;5;28;01mreturn\u001B[39;00m \u001B[38;5;28mself\u001B[39m\u001B[38;5;241m.\u001B[39m_getitem_tuple(key)\n\u001B[0;32m   1185\u001B[0m \u001B[38;5;28;01melse\u001B[39;00m:\n\u001B[0;32m   1186\u001B[0m     \u001B[38;5;66;03m# we by definition only have the 0th axis\u001B[39;00m\n\u001B[0;32m   1187\u001B[0m     axis \u001B[38;5;241m=\u001B[39m \u001B[38;5;28mself\u001B[39m\u001B[38;5;241m.\u001B[39maxis \u001B[38;5;129;01mor\u001B[39;00m \u001B[38;5;241m0\u001B[39m\n",
      "File \u001B[1;32m~\\miniconda3\\Lib\\site-packages\\pandas\\core\\indexing.py:1368\u001B[0m, in \u001B[0;36m_LocIndexer._getitem_tuple\u001B[1;34m(self, tup)\u001B[0m\n\u001B[0;32m   1366\u001B[0m \u001B[38;5;28;01mwith\u001B[39;00m suppress(IndexingError):\n\u001B[0;32m   1367\u001B[0m     tup \u001B[38;5;241m=\u001B[39m \u001B[38;5;28mself\u001B[39m\u001B[38;5;241m.\u001B[39m_expand_ellipsis(tup)\n\u001B[1;32m-> 1368\u001B[0m     \u001B[38;5;28;01mreturn\u001B[39;00m \u001B[38;5;28mself\u001B[39m\u001B[38;5;241m.\u001B[39m_getitem_lowerdim(tup)\n\u001B[0;32m   1370\u001B[0m \u001B[38;5;66;03m# no multi-index, so validate all of the indexers\u001B[39;00m\n\u001B[0;32m   1371\u001B[0m tup \u001B[38;5;241m=\u001B[39m \u001B[38;5;28mself\u001B[39m\u001B[38;5;241m.\u001B[39m_validate_tuple_indexer(tup)\n",
      "File \u001B[1;32m~\\miniconda3\\Lib\\site-packages\\pandas\\core\\indexing.py:1089\u001B[0m, in \u001B[0;36m_LocationIndexer._getitem_lowerdim\u001B[1;34m(self, tup)\u001B[0m\n\u001B[0;32m   1087\u001B[0m             \u001B[38;5;28;01mreturn\u001B[39;00m section\n\u001B[0;32m   1088\u001B[0m         \u001B[38;5;66;03m# This is an elided recursive call to iloc/loc\u001B[39;00m\n\u001B[1;32m-> 1089\u001B[0m         \u001B[38;5;28;01mreturn\u001B[39;00m \u001B[38;5;28mgetattr\u001B[39m(section, \u001B[38;5;28mself\u001B[39m\u001B[38;5;241m.\u001B[39mname)[new_key]\n\u001B[0;32m   1091\u001B[0m \u001B[38;5;28;01mraise\u001B[39;00m IndexingError(\u001B[38;5;124m\"\u001B[39m\u001B[38;5;124mnot applicable\u001B[39m\u001B[38;5;124m\"\u001B[39m)\n",
      "File \u001B[1;32m~\\miniconda3\\Lib\\site-packages\\pandas\\core\\indexing.py:1191\u001B[0m, in \u001B[0;36m_LocationIndexer.__getitem__\u001B[1;34m(self, key)\u001B[0m\n\u001B[0;32m   1189\u001B[0m maybe_callable \u001B[38;5;241m=\u001B[39m com\u001B[38;5;241m.\u001B[39mapply_if_callable(key, \u001B[38;5;28mself\u001B[39m\u001B[38;5;241m.\u001B[39mobj)\n\u001B[0;32m   1190\u001B[0m maybe_callable \u001B[38;5;241m=\u001B[39m \u001B[38;5;28mself\u001B[39m\u001B[38;5;241m.\u001B[39m_check_deprecated_callable_usage(key, maybe_callable)\n\u001B[1;32m-> 1191\u001B[0m \u001B[38;5;28;01mreturn\u001B[39;00m \u001B[38;5;28mself\u001B[39m\u001B[38;5;241m.\u001B[39m_getitem_axis(maybe_callable, axis\u001B[38;5;241m=\u001B[39maxis)\n",
      "File \u001B[1;32m~\\miniconda3\\Lib\\site-packages\\pandas\\core\\indexing.py:1420\u001B[0m, in \u001B[0;36m_LocIndexer._getitem_axis\u001B[1;34m(self, key, axis)\u001B[0m\n\u001B[0;32m   1417\u001B[0m     \u001B[38;5;28;01mif\u001B[39;00m \u001B[38;5;28mhasattr\u001B[39m(key, \u001B[38;5;124m\"\u001B[39m\u001B[38;5;124mndim\u001B[39m\u001B[38;5;124m\"\u001B[39m) \u001B[38;5;129;01mand\u001B[39;00m key\u001B[38;5;241m.\u001B[39mndim \u001B[38;5;241m>\u001B[39m \u001B[38;5;241m1\u001B[39m:\n\u001B[0;32m   1418\u001B[0m         \u001B[38;5;28;01mraise\u001B[39;00m \u001B[38;5;167;01mValueError\u001B[39;00m(\u001B[38;5;124m\"\u001B[39m\u001B[38;5;124mCannot index with multidimensional key\u001B[39m\u001B[38;5;124m\"\u001B[39m)\n\u001B[1;32m-> 1420\u001B[0m     \u001B[38;5;28;01mreturn\u001B[39;00m \u001B[38;5;28mself\u001B[39m\u001B[38;5;241m.\u001B[39m_getitem_iterable(key, axis\u001B[38;5;241m=\u001B[39maxis)\n\u001B[0;32m   1422\u001B[0m \u001B[38;5;66;03m# nested tuple slicing\u001B[39;00m\n\u001B[0;32m   1423\u001B[0m \u001B[38;5;28;01mif\u001B[39;00m is_nested_tuple(key, labels):\n",
      "File \u001B[1;32m~\\miniconda3\\Lib\\site-packages\\pandas\\core\\indexing.py:1360\u001B[0m, in \u001B[0;36m_LocIndexer._getitem_iterable\u001B[1;34m(self, key, axis)\u001B[0m\n\u001B[0;32m   1357\u001B[0m \u001B[38;5;28mself\u001B[39m\u001B[38;5;241m.\u001B[39m_validate_key(key, axis)\n\u001B[0;32m   1359\u001B[0m \u001B[38;5;66;03m# A collection of keys\u001B[39;00m\n\u001B[1;32m-> 1360\u001B[0m keyarr, indexer \u001B[38;5;241m=\u001B[39m \u001B[38;5;28mself\u001B[39m\u001B[38;5;241m.\u001B[39m_get_listlike_indexer(key, axis)\n\u001B[0;32m   1361\u001B[0m \u001B[38;5;28;01mreturn\u001B[39;00m \u001B[38;5;28mself\u001B[39m\u001B[38;5;241m.\u001B[39mobj\u001B[38;5;241m.\u001B[39m_reindex_with_indexers(\n\u001B[0;32m   1362\u001B[0m     {axis: [keyarr, indexer]}, copy\u001B[38;5;241m=\u001B[39m\u001B[38;5;28;01mTrue\u001B[39;00m, allow_dups\u001B[38;5;241m=\u001B[39m\u001B[38;5;28;01mTrue\u001B[39;00m\n\u001B[0;32m   1363\u001B[0m )\n",
      "File \u001B[1;32m~\\miniconda3\\Lib\\site-packages\\pandas\\core\\indexing.py:1558\u001B[0m, in \u001B[0;36m_LocIndexer._get_listlike_indexer\u001B[1;34m(self, key, axis)\u001B[0m\n\u001B[0;32m   1555\u001B[0m ax \u001B[38;5;241m=\u001B[39m \u001B[38;5;28mself\u001B[39m\u001B[38;5;241m.\u001B[39mobj\u001B[38;5;241m.\u001B[39m_get_axis(axis)\n\u001B[0;32m   1556\u001B[0m axis_name \u001B[38;5;241m=\u001B[39m \u001B[38;5;28mself\u001B[39m\u001B[38;5;241m.\u001B[39mobj\u001B[38;5;241m.\u001B[39m_get_axis_name(axis)\n\u001B[1;32m-> 1558\u001B[0m keyarr, indexer \u001B[38;5;241m=\u001B[39m ax\u001B[38;5;241m.\u001B[39m_get_indexer_strict(key, axis_name)\n\u001B[0;32m   1560\u001B[0m \u001B[38;5;28;01mreturn\u001B[39;00m keyarr, indexer\n",
      "File \u001B[1;32m~\\miniconda3\\Lib\\site-packages\\pandas\\core\\indexes\\base.py:6200\u001B[0m, in \u001B[0;36mIndex._get_indexer_strict\u001B[1;34m(self, key, axis_name)\u001B[0m\n\u001B[0;32m   6197\u001B[0m \u001B[38;5;28;01melse\u001B[39;00m:\n\u001B[0;32m   6198\u001B[0m     keyarr, indexer, new_indexer \u001B[38;5;241m=\u001B[39m \u001B[38;5;28mself\u001B[39m\u001B[38;5;241m.\u001B[39m_reindex_non_unique(keyarr)\n\u001B[1;32m-> 6200\u001B[0m \u001B[38;5;28mself\u001B[39m\u001B[38;5;241m.\u001B[39m_raise_if_missing(keyarr, indexer, axis_name)\n\u001B[0;32m   6202\u001B[0m keyarr \u001B[38;5;241m=\u001B[39m \u001B[38;5;28mself\u001B[39m\u001B[38;5;241m.\u001B[39mtake(indexer)\n\u001B[0;32m   6203\u001B[0m \u001B[38;5;28;01mif\u001B[39;00m \u001B[38;5;28misinstance\u001B[39m(key, Index):\n\u001B[0;32m   6204\u001B[0m     \u001B[38;5;66;03m# GH 42790 - Preserve name from an Index\u001B[39;00m\n",
      "File \u001B[1;32m~\\miniconda3\\Lib\\site-packages\\pandas\\core\\indexes\\base.py:6249\u001B[0m, in \u001B[0;36mIndex._raise_if_missing\u001B[1;34m(self, key, indexer, axis_name)\u001B[0m\n\u001B[0;32m   6247\u001B[0m \u001B[38;5;28;01mif\u001B[39;00m nmissing:\n\u001B[0;32m   6248\u001B[0m     \u001B[38;5;28;01mif\u001B[39;00m nmissing \u001B[38;5;241m==\u001B[39m \u001B[38;5;28mlen\u001B[39m(indexer):\n\u001B[1;32m-> 6249\u001B[0m         \u001B[38;5;28;01mraise\u001B[39;00m \u001B[38;5;167;01mKeyError\u001B[39;00m(\u001B[38;5;124mf\u001B[39m\u001B[38;5;124m\"\u001B[39m\u001B[38;5;124mNone of [\u001B[39m\u001B[38;5;132;01m{\u001B[39;00mkey\u001B[38;5;132;01m}\u001B[39;00m\u001B[38;5;124m] are in the [\u001B[39m\u001B[38;5;132;01m{\u001B[39;00maxis_name\u001B[38;5;132;01m}\u001B[39;00m\u001B[38;5;124m]\u001B[39m\u001B[38;5;124m\"\u001B[39m)\n\u001B[0;32m   6251\u001B[0m     not_found \u001B[38;5;241m=\u001B[39m \u001B[38;5;28mlist\u001B[39m(ensure_index(key)[missing_mask\u001B[38;5;241m.\u001B[39mnonzero()[\u001B[38;5;241m0\u001B[39m]]\u001B[38;5;241m.\u001B[39munique())\n\u001B[0;32m   6252\u001B[0m     \u001B[38;5;28;01mraise\u001B[39;00m \u001B[38;5;167;01mKeyError\u001B[39;00m(\u001B[38;5;124mf\u001B[39m\u001B[38;5;124m\"\u001B[39m\u001B[38;5;132;01m{\u001B[39;00mnot_found\u001B[38;5;132;01m}\u001B[39;00m\u001B[38;5;124m not in index\u001B[39m\u001B[38;5;124m\"\u001B[39m)\n",
      "\u001B[1;31mKeyError\u001B[0m: \"None of [Index([2], dtype='int32')] are in the [index]\""
     ]
    }
   ],
   "execution_count": 129
  },
  {
   "metadata": {},
   "cell_type": "code",
   "outputs": [],
   "execution_count": null,
   "source": "",
   "id": "fd97dc5224dac80c"
  }
 ],
 "metadata": {
  "kernelspec": {
   "display_name": "Python 3",
   "language": "python",
   "name": "python3"
  },
  "language_info": {
   "codemirror_mode": {
    "name": "ipython",
    "version": 2
   },
   "file_extension": ".py",
   "mimetype": "text/x-python",
   "name": "python",
   "nbconvert_exporter": "python",
   "pygments_lexer": "ipython2",
   "version": "2.7.6"
  }
 },
 "nbformat": 4,
 "nbformat_minor": 5
}
