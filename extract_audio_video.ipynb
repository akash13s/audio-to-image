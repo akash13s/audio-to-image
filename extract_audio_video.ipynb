{
 "cells": [
  {
   "cell_type": "code",
   "metadata": {
    "ExecuteTime": {
     "end_time": "2024-04-22T01:45:54.324742Z",
     "start_time": "2024-04-22T01:45:46.494815Z"
    }
   },
   "source": [
    "import concurrent.futures\n",
    "import datetime\n",
    "import os\n",
    "\n",
    "import pandas as pd\n",
    "import torch\n",
    "from moviepy.editor import VideoFileClip\n",
    "from pytube import YouTube"
   ],
   "outputs": [],
   "execution_count": 1
  },
  {
   "cell_type": "code",
   "metadata": {
    "ExecuteTime": {
     "end_time": "2024-04-22T01:45:54.329461Z",
     "start_time": "2024-04-22T01:45:54.325748Z"
    }
   },
   "source": [
    "TIME_DURATION_IN_SEC = 10\n",
    "CSV_FILE = './vggsound.csv'"
   ],
   "outputs": [],
   "execution_count": 2
  },
  {
   "cell_type": "code",
   "metadata": {
    "ExecuteTime": {
     "end_time": "2024-04-22T01:46:07.991252Z",
     "start_time": "2024-04-22T01:46:07.985980Z"
    }
   },
   "source": [
    "# Rename the columns\n",
    "new_column_names = {\n",
    "    '---g-f_I2yQ': 'youtube_video_id',\n",
    "    '1': 'start_seconds',\n",
    "    'people marching': 'label',\n",
    "    'test': 'split',\n",
    "}"
   ],
   "outputs": [],
   "execution_count": 3
  },
  {
   "cell_type": "code",
   "metadata": {
    "ExecuteTime": {
     "end_time": "2024-04-22T01:46:20.670428Z",
     "start_time": "2024-04-22T01:46:20.410096Z"
    }
   },
   "source": [
    "# Rename the columns\n",
    "df = pd.read_csv(CSV_FILE)\n",
    "df.rename(columns=new_column_names, inplace=True)"
   ],
   "outputs": [],
   "execution_count": 5
  },
  {
   "cell_type": "code",
   "metadata": {
    "ExecuteTime": {
     "end_time": "2024-04-22T01:46:21.518231Z",
     "start_time": "2024-04-22T01:46:21.498140Z"
    }
   },
   "source": [
    "df.head()"
   ],
   "outputs": [
    {
     "data": {
      "text/plain": [
       "  youtube_video_id  start_seconds                  label  split\n",
       "0      --0PQM4-hqg             30     waterfall burbling  train\n",
       "1      --56QUhyDQM            185         playing tennis  train\n",
       "2      --5OkAjCI7g             40  people belly laughing  train\n",
       "3      --8puiAGLhs             30    car engine starting  train\n",
       "4      --96EN9NUQM            242    alarm clock ringing  train"
      ],
      "text/html": [
       "<div>\n",
       "<style scoped>\n",
       "    .dataframe tbody tr th:only-of-type {\n",
       "        vertical-align: middle;\n",
       "    }\n",
       "\n",
       "    .dataframe tbody tr th {\n",
       "        vertical-align: top;\n",
       "    }\n",
       "\n",
       "    .dataframe thead th {\n",
       "        text-align: right;\n",
       "    }\n",
       "</style>\n",
       "<table border=\"1\" class=\"dataframe\">\n",
       "  <thead>\n",
       "    <tr style=\"text-align: right;\">\n",
       "      <th></th>\n",
       "      <th>youtube_video_id</th>\n",
       "      <th>start_seconds</th>\n",
       "      <th>label</th>\n",
       "      <th>split</th>\n",
       "    </tr>\n",
       "  </thead>\n",
       "  <tbody>\n",
       "    <tr>\n",
       "      <th>0</th>\n",
       "      <td>--0PQM4-hqg</td>\n",
       "      <td>30</td>\n",
       "      <td>waterfall burbling</td>\n",
       "      <td>train</td>\n",
       "    </tr>\n",
       "    <tr>\n",
       "      <th>1</th>\n",
       "      <td>--56QUhyDQM</td>\n",
       "      <td>185</td>\n",
       "      <td>playing tennis</td>\n",
       "      <td>train</td>\n",
       "    </tr>\n",
       "    <tr>\n",
       "      <th>2</th>\n",
       "      <td>--5OkAjCI7g</td>\n",
       "      <td>40</td>\n",
       "      <td>people belly laughing</td>\n",
       "      <td>train</td>\n",
       "    </tr>\n",
       "    <tr>\n",
       "      <th>3</th>\n",
       "      <td>--8puiAGLhs</td>\n",
       "      <td>30</td>\n",
       "      <td>car engine starting</td>\n",
       "      <td>train</td>\n",
       "    </tr>\n",
       "    <tr>\n",
       "      <th>4</th>\n",
       "      <td>--96EN9NUQM</td>\n",
       "      <td>242</td>\n",
       "      <td>alarm clock ringing</td>\n",
       "      <td>train</td>\n",
       "    </tr>\n",
       "  </tbody>\n",
       "</table>\n",
       "</div>"
      ]
     },
     "execution_count": 6,
     "metadata": {},
     "output_type": "execute_result"
    }
   ],
   "execution_count": 6
  },
  {
   "cell_type": "code",
   "metadata": {
    "ExecuteTime": {
     "end_time": "2024-04-22T01:46:23.381803Z",
     "start_time": "2024-04-22T01:46:23.249362Z"
    }
   },
   "source": [
    "device = torch.device(\"cuda\" if torch.cuda.is_available() else \"cpu\")\n",
    "\n",
    "print(device)"
   ],
   "outputs": [
    {
     "name": "stdout",
     "output_type": "stream",
     "text": [
      "cuda\n"
     ]
    }
   ],
   "execution_count": 7
  },
  {
   "cell_type": "code",
   "metadata": {
    "ExecuteTime": {
     "end_time": "2024-04-22T01:46:24.197733Z",
     "start_time": "2024-04-22T01:46:24.191831Z"
    }
   },
   "source": [
    "os.environ[\"TOKENIZERS_PARALLELISM\"] = \"false\" if device == \"cpu\" else \"true\""
   ],
   "outputs": [],
   "execution_count": 8
  },
  {
   "cell_type": "code",
   "metadata": {
    "colab": {
     "base_uri": "https://localhost:8080/"
    },
    "id": "tbczws9u5z_X",
    "outputId": "6edbbb56-c736-40e8-b89b-37d79a2545cc",
    "ExecuteTime": {
     "end_time": "2024-04-22T01:49:09.980998Z",
     "start_time": "2024-04-22T01:49:09.944688Z"
    }
   },
   "source": [
    "def extract_audio_and_video_within_interval(youtube_video_id, input_video_path, start_time, end_time):\n",
    "    # Load the video clip\n",
    "    video_clip = VideoFileClip(input_video_path)\n",
    "\n",
    "    # Define the subclip with the specified start and end times\n",
    "    subclip = video_clip.subclip(start_time, end_time)\n",
    "\n",
    "    # Extract audio from the subclip\n",
    "    audio_clip = subclip.audio\n",
    "\n",
    "    # Write the audio to a WAV file\n",
    "\n",
    "    audio_file_path = f\"./data/audio/audio_{youtube_video_id}.wav\"\n",
    "    video_file_path = f\"./data/video/video_{youtube_video_id}.mp4\"\n",
    "\n",
    "    audio_clip.write_audiofile(audio_file_path, codec='pcm_s16le', fps=audio_clip.fps)\n",
    "    subclip.write_videofile(video_file_path, codec='libx264')\n",
    "\n",
    "    # Close the clips\n",
    "    video_clip.close()\n",
    "    audio_clip.close()"
   ],
   "outputs": [],
   "execution_count": 14
  },
  {
   "metadata": {
    "ExecuteTime": {
     "end_time": "2024-04-22T01:49:10.878173Z",
     "start_time": "2024-04-22T01:49:10.868438Z"
    }
   },
   "cell_type": "code",
   "source": [
    "def download_files(youtube_video_id, start_seconds):\n",
    "    print(f\"Starting to download file: {youtube_video_id}\")\n",
    "\n",
    "    # Construct the YouTube video URL\n",
    "    video_url = f\"https://www.youtube.com/watch?v={youtube_video_id}\"\n",
    "\n",
    "    # Initialize a YouTube object with the URL\n",
    "    yt = YouTube(video_url)\n",
    "\n",
    "    downloaded_file = f\"{youtube_video_id}.mp4\"\n",
    "\n",
    "    try:\n",
    "        # Get a stream that includes both video and audio\n",
    "        stream = yt.streams.filter(progressive=True, file_extension='mp4').order_by('resolution').desc().first()\n",
    "\n",
    "        # Download the video\n",
    "        stream.download(output_path=\".\", filename=downloaded_file)\n",
    "\n",
    "        print(f\"Downloaded video: {youtube_video_id}\")\n",
    "\n",
    "        # Specify the start and end times for clipping (in seconds)\n",
    "        input_file_path = downloaded_file\n",
    "        extract_audio_and_video_within_interval(youtube_video_id, input_file_path, start_seconds,\n",
    "                                                start_seconds + TIME_DURATION_IN_SEC)\n",
    "\n",
    "        print(f\"Saved audio and video for: {youtube_video_id}\")\n",
    "\n",
    "    except Exception as e:\n",
    "        print(f\"Error downloading video with YouTube ID {youtube_video_id}: {e}\")\n",
    "\n",
    "    if os.path.exists(f\"./{downloaded_file}\"):\n",
    "        os.remove(f\"./{downloaded_file}\")"
   ],
   "outputs": [],
   "execution_count": 15
  },
  {
   "metadata": {
    "ExecuteTime": {
     "end_time": "2024-04-22T01:49:11.501154Z",
     "start_time": "2024-04-22T01:49:11.493571Z"
    }
   },
   "cell_type": "code",
   "source": [
    "def extract_audio_video(limit=2):\n",
    "    start_time = datetime.datetime.now()\n",
    "    # Create a ThreadPoolExecutor with 3 worker threads\n",
    "    with concurrent.futures.ThreadPoolExecutor(max_workers=3) as executor:\n",
    "        # Submit each video downloading task for execution asynchronously\n",
    "        futures = [executor.submit(download_files, row['youtube_video_id'], row['start_seconds']) for index, row in\n",
    "                   df.iterrows() if index <= limit]\n",
    "\n",
    "        # Wait for all tasks to complete\n",
    "        concurrent.futures.wait(futures)\n",
    "\n",
    "    end_time = datetime.datetime.now()\n",
    "\n",
    "    total_time = (end_time - start_time) / 60\n",
    "\n",
    "    print(f\"Time taken for download: {total_time} minutes\")"
   ],
   "outputs": [],
   "execution_count": 16
  },
  {
   "cell_type": "code",
   "metadata": {
    "ExecuteTime": {
     "end_time": "2024-04-22T01:49:12.164432Z",
     "start_time": "2024-04-22T01:49:12.159013Z"
    }
   },
   "source": [
    "count = 5"
   ],
   "outputs": [],
   "execution_count": 17
  },
  {
   "cell_type": "code",
   "metadata": {
    "ExecuteTime": {
     "end_time": "2024-04-22T01:49:52.184666Z",
     "start_time": "2024-04-22T01:49:13.064998Z"
    }
   },
   "source": [
    "extract_audio_video(count)"
   ],
   "outputs": [
    {
     "name": "stdout",
     "output_type": "stream",
     "text": [
      "Starting to download file: --0PQM4-hqg\n",
      "Starting to download file: --56QUhyDQM\n",
      "Starting to download file: --5OkAjCI7g\n",
      "Error downloading video with YouTube ID --5OkAjCI7g: --5OkAjCI7g is a private video\n",
      "Starting to download file: --8puiAGLhs\n",
      "Downloaded video: --0PQM4-hqg\n",
      "Downloaded video: --8puiAGLhs\n",
      "MoviePy - Writing audio in ./data/audio/audio_--0PQM4-hqg.wav\n"
     ]
    },
    {
     "name": "stderr",
     "output_type": "stream",
     "text": [
      "                                                                \r"
     ]
    },
    {
     "name": "stdout",
     "output_type": "stream",
     "text": [
      "MoviePy - Done.\n",
      "Moviepy - Building video ./data/video/video_--0PQM4-hqg.mp4.\n",
      "MoviePy - Writing audio in video_--0PQM4-hqgTEMP_MPY_wvf_snd.mp3\n"
     ]
    },
    {
     "name": "stderr",
     "output_type": "stream",
     "text": [
      "chunk:   0%|          | 1/221 [00:00<00:01, 124.83it/s, now=None]"
     ]
    },
    {
     "name": "stdout",
     "output_type": "stream",
     "text": [
      "MoviePy - Writing audio in ./data/audio/audio_--8puiAGLhs.wav\n"
     ]
    },
    {
     "name": "stderr",
     "output_type": "stream",
     "text": [
      "\n",
      "chunk:   1%|          | 2/221 [00:00<00:12, 17.35it/s, now=None] \n",
      "chunk:   1%|          | 2/221 [00:00<00:12, 16.99it/s, now=None]\u001B[A"
     ]
    },
    {
     "name": "stdout",
     "output_type": "stream",
     "text": [
      "Downloaded video: --56QUhyDQM\n"
     ]
    },
    {
     "name": "stderr",
     "output_type": "stream",
     "text": [
      "chunk:  46%|████▌     | 102/221 [00:00<00:00, 560.84it/s, now=None]\n",
      "chunk:  92%|█████████▏| 203/221 [00:00<00:00, 757.16it/s, now=None]\u001B[A\n",
      "                                                                   \u001B[A\r"
     ]
    },
    {
     "name": "stdout",
     "output_type": "stream",
     "text": [
      "MoviePy - Done.\n",
      "Moviepy - Building video ./data/video/video_--8puiAGLhs.mp4.\n",
      "MoviePy - Writing audio in video_--8puiAGLhsTEMP_MPY_wvf_snd.mp3\n"
     ]
    },
    {
     "name": "stderr",
     "output_type": "stream",
     "text": [
      "chunk:   0%|          | 1/221 [00:00<00:03, 71.14it/s, now=None] "
     ]
    },
    {
     "name": "stdout",
     "output_type": "stream",
     "text": [
      "MoviePy - Done.\n",
      "Moviepy - Writing video ./data/video/video_--0PQM4-hqg.mp4\n",
      "\n"
     ]
    },
    {
     "name": "stderr",
     "output_type": "stream",
     "text": [
      "\n",
      "t:   0%|          | 0/300 [00:00<?, ?it/s, now=None]\u001B[A\n",
      "chunk:   1%|          | 2/221 [00:00<00:21, 10.18it/s, now=None]\n",
      "                                                                   \r\n",
      "chunk:  85%|████████▍ | 187/221 [00:00<00:00, 491.63it/s, now=None]\n",
      "t:  22%|██▏       | 66/300 [00:00<00:00, 266.29it/s, now=None]\u001B[A"
     ]
    },
    {
     "name": "stdout",
     "output_type": "stream",
     "text": [
      "MoviePy - Writing audio in ./data/audio/audio_--56QUhyDQM.wav\n"
     ]
    },
    {
     "name": "stderr",
     "output_type": "stream",
     "text": [
      "\n",
      "\n",
      "                                                                   \r\n",
      "\n",
      "\u001B[A\u001B[A                                                  \n",
      "\u001B[A                                                           \n",
      "\n",
      "chunk:   0%|          | 1/221 [00:00<00:14, 15.20it/s, now=None]\u001B[A\u001B[A\n",
      "t:  23%|██▎       | 69/300 [00:00<00:00, 266.29it/s, now=None]\u001B[A\n",
      "\n",
      "\u001B[A\u001B[A                                                          \n",
      "\u001B[A                                                           \n",
      "\n",
      "chunk:   0%|          | 1/221 [00:00<00:18, 11.93it/s, now=None]\u001B[A\u001B[A\n",
      "t:  23%|██▎       | 69/300 [00:00<00:00, 266.29it/s, now=None]\u001B[A"
     ]
    },
    {
     "name": "stdout",
     "output_type": "stream",
     "text": [
      "MoviePy - Done.\n",
      "Moviepy - Writing video ./data/video/video_--8puiAGLhs.mp4\n",
      "\n"
     ]
    },
    {
     "name": "stderr",
     "output_type": "stream",
     "text": [
      "t:   0%|          | 0/300 [00:00<?, ?it/s, now=None]\n",
      "\n",
      "chunk:   1%|          | 2/221 [00:00<00:21, 10.14it/s, now=None]\u001B[A\u001B[A\n",
      "t:  26%|██▌       | 78/300 [00:00<00:01, 117.16it/s, now=None]\u001B[A\n",
      "\n",
      "chunk:  53%|█████▎    | 118/221 [00:00<00:00, 491.37it/s, now=None]\u001B[A\u001B[A\n",
      "t:  32%|███▏      | 97/300 [00:00<00:01, 120.44it/s, now=None]\u001B[A\n",
      "\n",
      "                                                                   \u001B[A\u001B[A\r\n",
      "t:   1%|          | 2/300 [00:00<00:42,  7.00it/s, now=None]  \n",
      "                                                            ne]\u001B[A\r\n",
      "t:   1%|          | 2/300 [00:00<00:44,  6.70it/s, now=None]   \n",
      "                                                            ne]\u001B[A\r\n",
      "t:   1%|          | 2/300 [00:00<00:46,  6.40it/s, now=None]   \n",
      "t:  34%|███▍      | 102/300 [00:00<00:01, 120.44it/s, now=None]\u001B[A"
     ]
    },
    {
     "name": "stdout",
     "output_type": "stream",
     "text": [
      "MoviePy - Done.\n",
      "Moviepy - Building video ./data/video/video_--56QUhyDQM.mp4.\n",
      "MoviePy - Writing audio in video_--56QUhyDQMTEMP_MPY_wvf_snd.mp3\n"
     ]
    },
    {
     "name": "stderr",
     "output_type": "stream",
     "text": [
      "\n",
      "\n",
      "chunk:   0%|          | 0/221 [00:00<?, ?it/s, now=None]\u001B[A\u001B[A\n",
      "\n",
      "chunk:   1%|          | 2/221 [00:00<00:15, 13.89it/s, now=None]\u001B[A\u001B[A\n",
      "t:  38%|███▊      | 114/300 [00:01<00:01, 98.28it/s, now=None] \u001B[A\n",
      "\n",
      "chunk:  34%|███▍      | 76/221 [00:00<00:00, 373.89it/s, now=None]\u001B[A\u001B[A\n",
      "t:  42%|████▏     | 127/300 [00:01<00:01, 97.05it/s, now=None]\u001B[A\n",
      "\n",
      "chunk:  70%|██████▉   | 154/221 [00:00<00:00, 532.70it/s, now=None]\u001B[A\u001B[A\n",
      "t:  46%|████▋     | 139/300 [00:01<00:01, 98.79it/s, now=None]\u001B[A\n",
      "\n",
      "                                                                   \u001B[A\u001B[A\r\n",
      "t:   1%|          | 2/300 [00:00<01:58,  2.52it/s, now=None]  \n",
      "                                                            e]\u001B[A\r\n",
      "t:   1%|          | 2/300 [00:00<01:59,  2.49it/s, now=None]  \n",
      "t:  48%|████▊     | 145/300 [00:01<00:01, 98.79it/s, now=None]\u001B[A"
     ]
    },
    {
     "name": "stdout",
     "output_type": "stream",
     "text": [
      "MoviePy - Done.\n",
      "Moviepy - Writing video ./data/video/video_--56QUhyDQM.mp4\n",
      "\n"
     ]
    },
    {
     "name": "stderr",
     "output_type": "stream",
     "text": [
      "\n",
      "\n",
      "t:   0%|          | 0/300 [00:00<?, ?it/s, now=None]\u001B[A\u001B[A\n",
      "t:  50%|█████     | 151/300 [00:01<00:01, 99.94it/s, now=None]\u001B[A\n",
      "\n",
      "t:   1%|          | 2/300 [00:00<00:16, 18.12it/s, now=None]\u001B[A\u001B[A\n",
      "t:  55%|█████▌    | 166/300 [00:01<00:01, 111.00it/s, now=None]\u001B[A\n",
      "t:  62%|██████▏   | 185/300 [00:01<00:00, 127.55it/s, now=None]\u001B[A\n",
      "t:  68%|██████▊   | 203/300 [00:01<00:00, 140.81it/s, now=None]\u001B[A\n",
      "t:  74%|███████▎  | 221/300 [00:01<00:00, 149.76it/s, now=None]\u001B[A\n",
      "t:  79%|███████▉  | 237/300 [00:01<00:00, 149.18it/s, now=None]\u001B[A\n",
      "t:  84%|████████▍ | 253/300 [00:02<00:00, 144.99it/s, now=None]\u001B[A\n",
      "t:   1%|          | 3/300 [00:01<02:43,  1.81it/s, now=None]ne]\u001B[A\n",
      "\n",
      "t:  11%|█▏        | 34/300 [00:01<00:10, 26.18it/s, now=None][A\u001B[A\n",
      "\n",
      "t:  17%|█▋        | 52/300 [00:01<00:05, 41.76it/s, now=None]\u001B[A\u001B[A\n",
      "\n",
      "t:  18%|█▊        | 53/300 [00:01<00:03, 72.49it/s, now=None]\u001B[A\u001B[A\n",
      "\n",
      "t:  23%|██▎       | 70/300 [00:02<00:05, 44.87it/s, now=None]\u001B[A\u001B[A\n",
      "t:  94%|█████████▍| 282/300 [00:02<00:00, 56.64it/s, now=None] \u001B[A\n",
      "\n",
      "t:  28%|██▊       | 83/300 [00:02<00:04, 45.25it/s, now=None]\u001B[A\u001B[A\n",
      "\n",
      "t:  31%|███       | 93/300 [00:01<00:02, 71.55it/s, now=None]\u001B[A\u001B[A\n",
      "t: 100%|██████████| 300/300 [00:03<00:00, 60.37it/s, now=None]\u001B[A\n",
      "t:  31%|███       | 93/300 [00:02<00:04, 46.39it/s, now=None] \u001B[A\n",
      "\n",
      "t:  35%|███▍      | 104/300 [00:01<00:03, 56.01it/s, now=None]\u001B[A\u001B[A\n",
      "\n",
      "t:  42%|████▏     | 126/300 [00:03<00:03, 54.27it/s, now=None]\u001B[A\u001B[A\n",
      "\n",
      "t:  45%|████▍     | 134/300 [00:03<00:03, 48.70it/s, now=None]\u001B[A\u001B[A\n",
      "\n",
      "t:  48%|████▊     | 144/300 [00:02<00:02, 52.84it/s, now=None]\u001B[A\u001B[A\n",
      "\n",
      "t:  47%|████▋     | 141/300 [00:03<00:03, 41.29it/s, now=None]\u001B[A\u001B[A\n",
      "\n",
      "t:  49%|████▉     | 147/300 [00:03<00:03, 43.73it/s, now=None]\u001B[A\u001B[A\n",
      "\n",
      "t:  56%|█████▋    | 169/300 [00:03<00:02, 60.76it/s, now=None]\u001B[A\u001B[A\n",
      "\n",
      "                                                              \u001B[A\u001B[A\r\n",
      "\n",
      "t:  52%|█████▏    | 156/300 [00:04<00:03, 43.73it/s, now=None]\n",
      "\n",
      "                                                              \u001B[A\u001B[A\r\n",
      "\n",
      "t:  52%|█████▏    | 156/300 [00:04<00:03, 43.73it/s, now=None]\n",
      "\n",
      "t:  52%|█████▏    | 157/300 [00:04<00:03, 39.93it/s, now=None]\u001B[A\u001B[A"
     ]
    },
    {
     "name": "stdout",
     "output_type": "stream",
     "text": [
      "Moviepy - Done !\n",
      "Moviepy - video ready ./data/video/video_--0PQM4-hqg.mp4\n",
      "Saved audio and video for: --0PQM4-hqg\n",
      "Starting to download file: --96EN9NUQM\n"
     ]
    },
    {
     "name": "stderr",
     "output_type": "stream",
     "text": [
      "t:  56%|█████▋    | 169/300 [00:04<00:02, 51.76it/s, now=None]\n",
      "\n",
      "t:  60%|██████    | 180/300 [00:04<00:02, 56.50it/s, now=None]\u001B[A\u001B[A\n",
      "\n",
      "t:  68%|██████▊   | 205/300 [00:04<00:01, 70.92it/s, now=None]\u001B[A\u001B[A\n",
      "\n",
      "t:  72%|███████▏  | 216/300 [00:04<00:01, 73.84it/s, now=None]\u001B[A\u001B[A\n",
      "\n",
      "t:  75%|███████▌  | 225/300 [00:05<00:01, 70.48it/s, now=None]\u001B[A\u001B[A\n",
      "\n",
      "t:  80%|████████  | 240/300 [00:05<00:00, 86.66it/s, now=None]\u001B[A\u001B[A\n",
      "\n",
      "t:  77%|███████▋  | 231/300 [00:04<00:01, 52.45it/s, now=None]\u001B[A\u001B[A\n",
      "\n",
      "t:  86%|████████▌ | 257/300 [00:05<00:00, 80.31it/s, now=None]\u001B[A\u001B[A\n",
      "\n",
      "t:  89%|████████▊ | 266/300 [00:06<00:00, 36.00it/s, now=None]\u001B[A\u001B[A\n",
      "\n",
      "t:  95%|█████████▌| 285/300 [00:06<00:00, 52.77it/s, now=None]\u001B[A\u001B[A\n",
      "\n",
      "t:  97%|█████████▋| 292/300 [00:05<00:00, 62.33it/s, now=None]\u001B[A\u001B[A\n",
      "\n",
      "                                                              \u001B[A\u001B[A\r"
     ]
    },
    {
     "name": "stdout",
     "output_type": "stream",
     "text": [
      "Moviepy - Done !\n",
      "Moviepy - video ready ./data/video/video_--56QUhyDQM.mp4\n",
      "Saved audio and video for: --56QUhyDQM\n",
      "Starting to download file: --9O4XZOge4\n",
      "Moviepy - Done !\n",
      "Moviepy - video ready ./data/video/video_--8puiAGLhs.mp4\n",
      "Saved audio and video for: --8puiAGLhs\n",
      "Downloaded video: --9O4XZOge4\n",
      "MoviePy - Writing audio in ./data/audio/audio_--9O4XZOge4.wav\n"
     ]
    },
    {
     "name": "stderr",
     "output_type": "stream",
     "text": [
      "                                                                \r"
     ]
    },
    {
     "name": "stdout",
     "output_type": "stream",
     "text": [
      "MoviePy - Done.\n",
      "Moviepy - Building video ./data/video/video_--9O4XZOge4.mp4.\n",
      "MoviePy - Writing audio in video_--9O4XZOge4TEMP_MPY_wvf_snd.mp3\n"
     ]
    },
    {
     "name": "stderr",
     "output_type": "stream",
     "text": [
      "                                                                   \r"
     ]
    },
    {
     "name": "stdout",
     "output_type": "stream",
     "text": [
      "MoviePy - Done.\n",
      "Moviepy - Writing video ./data/video/video_--9O4XZOge4.mp4\n",
      "\n"
     ]
    },
    {
     "name": "stderr",
     "output_type": "stream",
     "text": [
      "t:  54%|█████▍    | 130/240 [00:02<00:03, 31.34it/s, now=None]"
     ]
    },
    {
     "name": "stdout",
     "output_type": "stream",
     "text": [
      "Downloaded video: --96EN9NUQM\n"
     ]
    },
    {
     "name": "stderr",
     "output_type": "stream",
     "text": [
      "t:  66%|██████▋   | 159/240 [00:03<00:02, 32.98it/s, now=None]"
     ]
    },
    {
     "name": "stdout",
     "output_type": "stream",
     "text": [
      "MoviePy - Writing audio in ./data/audio/audio_--96EN9NUQM.wav\n"
     ]
    },
    {
     "name": "stderr",
     "output_type": "stream",
     "text": [
      "\n",
      "t:  69%|██████▉   | 165/240 [00:03<00:02, 36.68it/s, now=None]\n",
      "t:  71%|███████   | 170/240 [00:03<00:01, 37.98it/s, now=None]e]\u001B[A\n",
      "t:  73%|███████▎  | 175/240 [00:03<00:01, 37.67it/s, now=None]None]\u001B[A\n",
      "t:  73%|███████▎  | 176/240 [00:03<00:01, 37.67it/s, now=None]     \u001B[A"
     ]
    },
    {
     "name": "stdout",
     "output_type": "stream",
     "text": [
      "MoviePy - Done.\n",
      "Moviepy - Building video ./data/video/video_--96EN9NUQM.mp4.\n",
      "MoviePy - Writing audio in video_--96EN9NUQMTEMP_MPY_wvf_snd.mp3\n"
     ]
    },
    {
     "name": "stderr",
     "output_type": "stream",
     "text": [
      "\n",
      "t:  75%|███████▌  | 181/240 [00:04<00:01, 36.36it/s, now=None]\n",
      "t:  77%|███████▋  | 185/240 [00:04<00:01, 34.81it/s, now=None]e]\u001B[A\n",
      "chunk:  34%|███▍      | 75/221 [00:00<00:00, 335.13it/s, now=None]\u001B[A\n",
      "chunk:  68%|██████▊   | 150/221 [00:00<00:00, 495.98it/s, now=None]\u001B[A\n",
      "t:  80%|███████▉  | 191/240 [00:04<00:01, 34.81it/s, now=None]     \u001B[A"
     ]
    },
    {
     "name": "stdout",
     "output_type": "stream",
     "text": [
      "MoviePy - Done.\n",
      "Moviepy - Writing video ./data/video/video_--96EN9NUQM.mp4\n",
      "\n"
     ]
    },
    {
     "name": "stderr",
     "output_type": "stream",
     "text": [
      "\n",
      "t:  80%|████████  | 192/240 [00:04<00:01, 32.18it/s, now=None]\n",
      "t:  83%|████████▎ | 199/240 [00:04<00:01, 39.20it/s, now=None]A\n",
      "t:   3%|▎         | 8/300 [00:00<00:06, 41.94it/s, now=None]\u001B[A\n",
      "t:   6%|▌         | 18/300 [00:00<00:04, 67.05it/s, now=None]\u001B[A\n",
      "t:  85%|████████▌ | 204/240 [00:04<00:01, 27.82it/s, now=None][A\n",
      "t:  87%|████████▋ | 208/240 [00:05<00:01, 28.29it/s, now=None][A\n",
      "t:  88%|████████▊ | 212/240 [00:05<00:01, 22.48it/s, now=None][A\n",
      "t:  19%|█▉        | 57/300 [00:00<00:04, 56.20it/s, now=None]\u001B[A\n",
      "t:  98%|█████████▊| 234/240 [00:06<00:00, 26.55it/s, now=None][A\n",
      "                                                              [A\r\n",
      "t:  26%|██▋       | 79/300 [00:02<00:08, 24.63it/s, now=None]\u001B[A\n",
      "t:  29%|██▊       | 86/300 [00:02<00:07, 26.95it/s, now=None]\u001B[A\n",
      "t:  30%|███       | 91/300 [00:02<00:11, 18.25it/s, now=None]\u001B[A\n",
      "t:  32%|███▏      | 95/300 [00:02<00:10, 20.25it/s, now=None]\u001B[A\n",
      "t:  33%|███▎      | 99/300 [00:03<00:09, 22.07it/s, now=None]\u001B[A\n",
      "t:  34%|███▍      | 103/300 [00:03<00:10, 19.25it/s, now=None]\u001B[A\n",
      "\u001B[A                                                           \n",
      "t:  35%|███▍      | 104/300 [00:03<00:10, 19.25it/s, now=None]\u001B[A\n",
      "\u001B[A                                                           \n",
      "t:  35%|███▍      | 104/300 [00:03<00:10, 19.25it/s, now=None]\u001B[A\n",
      "t:  35%|███▌      | 106/300 [00:03<00:12, 16.03it/s, now=None]\u001B[A"
     ]
    },
    {
     "name": "stdout",
     "output_type": "stream",
     "text": [
      "Moviepy - Done !\n",
      "Moviepy - video ready ./data/video/video_--9O4XZOge4.mp4\n",
      "Saved audio and video for: --9O4XZOge4\n"
     ]
    },
    {
     "name": "stderr",
     "output_type": "stream",
     "text": [
      "\n",
      "t:  37%|███▋      | 111/300 [00:03<00:09, 20.45it/s, now=None]\u001B[A\n",
      "t:  39%|███▉      | 117/300 [00:04<00:08, 20.86it/s, now=None]\u001B[A\n",
      "t:  40%|████      | 121/300 [00:04<00:08, 20.77it/s, now=None]\u001B[A\n",
      "t:  41%|████▏     | 124/300 [00:04<00:08, 21.62it/s, now=None]\u001B[A\n",
      "t:  44%|████▍     | 132/300 [00:04<00:05, 31.26it/s, now=None]\u001B[A\n",
      "t:  45%|████▌     | 136/300 [00:04<00:05, 30.94it/s, now=None]\u001B[A\n",
      "t:  47%|████▋     | 140/300 [00:04<00:05, 30.57it/s, now=None]\u001B[A\n",
      "t:  49%|████▉     | 147/300 [00:04<00:04, 34.40it/s, now=None]\u001B[A\n",
      "t:  51%|█████     | 152/300 [00:04<00:03, 37.02it/s, now=None]\u001B[A\n",
      "t:  52%|█████▏    | 156/300 [00:05<00:03, 36.01it/s, now=None]\u001B[A\n",
      "t:  54%|█████▍    | 162/300 [00:05<00:03, 40.24it/s, now=None]\u001B[A\n",
      "t:  56%|█████▌    | 167/300 [00:05<00:04, 33.05it/s, now=None]\u001B[A\n",
      "t:  58%|█████▊    | 173/300 [00:05<00:03, 38.67it/s, now=None]\u001B[A\n",
      "t:  59%|█████▉    | 178/300 [00:05<00:03, 38.96it/s, now=None]\u001B[A\n",
      "t:  61%|██████    | 183/300 [00:05<00:03, 34.48it/s, now=None]\u001B[A\n",
      "t:  63%|██████▎   | 190/300 [00:05<00:02, 41.39it/s, now=None]\u001B[A\n",
      "t:  65%|██████▌   | 195/300 [00:06<00:03, 30.68it/s, now=None]\u001B[A\n",
      "t:  67%|██████▋   | 200/300 [00:06<00:02, 33.44it/s, now=None]\u001B[A\n",
      "t:  69%|██████▊   | 206/300 [00:06<00:02, 31.73it/s, now=None]\u001B[A\n",
      "t:  70%|███████   | 210/300 [00:06<00:02, 31.86it/s, now=None]\u001B[A\n",
      "t:  73%|███████▎  | 219/300 [00:06<00:02, 36.13it/s, now=None]\u001B[A\n",
      "t:  76%|███████▌  | 227/300 [00:07<00:01, 44.01it/s, now=None]\u001B[A\n",
      "t:  77%|███████▋  | 232/300 [00:07<00:01, 39.06it/s, now=None]\u001B[A\n",
      "t:  80%|███████▉  | 239/300 [00:07<00:01, 42.97it/s, now=None]\u001B[A\n",
      "t:  81%|████████▏ | 244/300 [00:07<00:01, 43.91it/s, now=None]\u001B[A\n",
      "t:  83%|████████▎ | 249/300 [00:07<00:01, 38.57it/s, now=None]\u001B[A\n",
      "t:  85%|████████▍ | 254/300 [00:07<00:01, 37.48it/s, now=None]\u001B[A\n",
      "t:  87%|████████▋ | 260/300 [00:07<00:01, 39.05it/s, now=None]\u001B[A\n",
      "t:  88%|████████▊ | 265/300 [00:08<00:00, 35.23it/s, now=None]\u001B[A\n",
      "t:  90%|█████████ | 271/300 [00:08<00:00, 40.53it/s, now=None]\u001B[A\n",
      "t:  92%|█████████▏| 277/300 [00:08<00:00, 33.78it/s, now=None]\u001B[A\n",
      "t:  95%|█████████▍| 284/300 [00:08<00:00, 39.58it/s, now=None]\u001B[A\n",
      "t:  96%|█████████▋| 289/300 [00:08<00:00, 33.24it/s, now=None]\u001B[A\n",
      "t:  99%|█████████▊| 296/300 [00:08<00:00, 32.44it/s, now=None]\u001B[A\n",
      "                                                              \u001B[A"
     ]
    },
    {
     "name": "stdout",
     "output_type": "stream",
     "text": [
      "Moviepy - Done !\n",
      "Moviepy - video ready ./data/video/video_--96EN9NUQM.mp4\n",
      "Saved audio and video for: --96EN9NUQM\n",
      "Time taken for download: 0:00:00.651886 minutes\n"
     ]
    }
   ],
   "execution_count": 18
  }
 ],
 "metadata": {
  "accelerator": "GPU",
  "colab": {
   "gpuType": "T4",
   "provenance": []
  },
  "kernelspec": {
   "display_name": "Python 3 (ipykernel)",
   "language": "python",
   "name": "python3"
  },
  "language_info": {
   "codemirror_mode": {
    "name": "ipython",
    "version": 3
   },
   "file_extension": ".py",
   "mimetype": "text/x-python",
   "name": "python",
   "nbconvert_exporter": "python",
   "pygments_lexer": "ipython3",
   "version": "3.11.5"
  }
 },
 "nbformat": 4,
 "nbformat_minor": 4
}
