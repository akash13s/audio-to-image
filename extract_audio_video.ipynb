{
 "cells": [
  {
   "cell_type": "code",
   "execution_count": 1,
   "metadata": {
    "ExecuteTime": {
     "end_time": "2024-04-22T01:45:54.324742Z",
     "start_time": "2024-04-22T01:45:46.494815Z"
    }
   },
   "outputs": [
    {
     "name": "stdout",
     "output_type": "stream",
     "text": [
      "Defaulting to user installation because normal site-packages is not writeable\n",
      "Requirement already satisfied: moviepy in /ext3/miniconda3/lib/python3.12/site-packages (1.0.3)\n",
      "Requirement already satisfied: pytube in /ext3/miniconda3/lib/python3.12/site-packages (15.0.0)\n",
      "Requirement already satisfied: decorator<5.0,>=4.0.2 in /ext3/miniconda3/lib/python3.12/site-packages (from moviepy) (4.4.2)\n",
      "Requirement already satisfied: tqdm<5.0,>=4.11.2 in /ext3/miniconda3/lib/python3.12/site-packages (from moviepy) (4.65.0)\n",
      "Requirement already satisfied: requests<3.0,>=2.8.1 in /ext3/miniconda3/lib/python3.12/site-packages (from moviepy) (2.31.0)\n",
      "Requirement already satisfied: proglog<=1.0.0 in /ext3/miniconda3/lib/python3.12/site-packages (from moviepy) (0.1.10)\n",
      "Requirement already satisfied: numpy>=1.17.3 in /home/as18464/.local/lib/python3.12/site-packages (from moviepy) (1.26.4)\n",
      "Requirement already satisfied: imageio<3.0,>=2.5 in /ext3/miniconda3/lib/python3.12/site-packages (from moviepy) (2.34.1)\n",
      "Requirement already satisfied: imageio-ffmpeg>=0.2.0 in /ext3/miniconda3/lib/python3.12/site-packages (from moviepy) (0.4.9)\n",
      "Requirement already satisfied: pillow>=8.3.2 in /ext3/miniconda3/lib/python3.12/site-packages (from imageio<3.0,>=2.5->moviepy) (10.3.0)\n",
      "Requirement already satisfied: setuptools in /ext3/miniconda3/lib/python3.12/site-packages (from imageio-ffmpeg>=0.2.0->moviepy) (68.2.2)\n",
      "Requirement already satisfied: charset-normalizer<4,>=2 in /ext3/miniconda3/lib/python3.12/site-packages (from requests<3.0,>=2.8.1->moviepy) (2.0.4)\n",
      "Requirement already satisfied: idna<4,>=2.5 in /ext3/miniconda3/lib/python3.12/site-packages (from requests<3.0,>=2.8.1->moviepy) (3.4)\n",
      "Requirement already satisfied: urllib3<3,>=1.21.1 in /ext3/miniconda3/lib/python3.12/site-packages (from requests<3.0,>=2.8.1->moviepy) (2.1.0)\n",
      "Requirement already satisfied: certifi>=2017.4.17 in /ext3/miniconda3/lib/python3.12/site-packages (from requests<3.0,>=2.8.1->moviepy) (2024.2.2)\n"
     ]
    }
   ],
   "source": [
    "!pip install moviepy pytube\n",
    "import concurrent.futures\n",
    "import datetime\n",
    "import os\n",
    "\n",
    "import pandas as pd\n",
    "import torch\n",
    "from moviepy.editor import VideoFileClip\n",
    "from pytube import YouTube"
   ]
  },
  {
   "cell_type": "code",
   "execution_count": 2,
   "metadata": {
    "ExecuteTime": {
     "end_time": "2024-04-22T01:45:54.329461Z",
     "start_time": "2024-04-22T01:45:54.325748Z"
    }
   },
   "outputs": [],
   "source": [
    "TIME_DURATION_IN_SEC = 10\n",
    "CSV_FILE = './vggsound.csv'"
   ]
  },
  {
   "cell_type": "code",
   "execution_count": 3,
   "metadata": {
    "ExecuteTime": {
     "end_time": "2024-04-22T01:46:07.991252Z",
     "start_time": "2024-04-22T01:46:07.985980Z"
    }
   },
   "outputs": [],
   "source": [
    "# Rename the columns\n",
    "new_column_names = {\n",
    "    '---g-f_I2yQ': 'youtube_video_id',\n",
    "    '1': 'start_seconds',\n",
    "    'people marching': 'label',\n",
    "    'test': 'split',\n",
    "}"
   ]
  },
  {
   "cell_type": "code",
   "execution_count": 4,
   "metadata": {
    "ExecuteTime": {
     "end_time": "2024-04-22T01:46:20.670428Z",
     "start_time": "2024-04-22T01:46:20.410096Z"
    }
   },
   "outputs": [],
   "source": [
    "# Rename the columns\n",
    "df = pd.read_csv(CSV_FILE)\n",
    "df.rename(columns=new_column_names, inplace=True)"
   ]
  },
  {
   "cell_type": "code",
   "execution_count": 5,
   "metadata": {
    "ExecuteTime": {
     "end_time": "2024-04-22T01:46:21.518231Z",
     "start_time": "2024-04-22T01:46:21.498140Z"
    }
   },
   "outputs": [
    {
     "data": {
      "text/html": [
       "<div>\n",
       "<style scoped>\n",
       "    .dataframe tbody tr th:only-of-type {\n",
       "        vertical-align: middle;\n",
       "    }\n",
       "\n",
       "    .dataframe tbody tr th {\n",
       "        vertical-align: top;\n",
       "    }\n",
       "\n",
       "    .dataframe thead th {\n",
       "        text-align: right;\n",
       "    }\n",
       "</style>\n",
       "<table border=\"1\" class=\"dataframe\">\n",
       "  <thead>\n",
       "    <tr style=\"text-align: right;\">\n",
       "      <th></th>\n",
       "      <th>youtube_video_id</th>\n",
       "      <th>start_seconds</th>\n",
       "      <th>label</th>\n",
       "      <th>split</th>\n",
       "    </tr>\n",
       "  </thead>\n",
       "  <tbody>\n",
       "    <tr>\n",
       "      <th>0</th>\n",
       "      <td>--0PQM4-hqg</td>\n",
       "      <td>30</td>\n",
       "      <td>waterfall burbling</td>\n",
       "      <td>train</td>\n",
       "    </tr>\n",
       "    <tr>\n",
       "      <th>1</th>\n",
       "      <td>--56QUhyDQM</td>\n",
       "      <td>185</td>\n",
       "      <td>playing tennis</td>\n",
       "      <td>train</td>\n",
       "    </tr>\n",
       "    <tr>\n",
       "      <th>2</th>\n",
       "      <td>--5OkAjCI7g</td>\n",
       "      <td>40</td>\n",
       "      <td>people belly laughing</td>\n",
       "      <td>train</td>\n",
       "    </tr>\n",
       "    <tr>\n",
       "      <th>3</th>\n",
       "      <td>--8puiAGLhs</td>\n",
       "      <td>30</td>\n",
       "      <td>car engine starting</td>\n",
       "      <td>train</td>\n",
       "    </tr>\n",
       "    <tr>\n",
       "      <th>4</th>\n",
       "      <td>--96EN9NUQM</td>\n",
       "      <td>242</td>\n",
       "      <td>alarm clock ringing</td>\n",
       "      <td>train</td>\n",
       "    </tr>\n",
       "  </tbody>\n",
       "</table>\n",
       "</div>"
      ],
      "text/plain": [
       "  youtube_video_id  start_seconds                  label  split\n",
       "0      --0PQM4-hqg             30     waterfall burbling  train\n",
       "1      --56QUhyDQM            185         playing tennis  train\n",
       "2      --5OkAjCI7g             40  people belly laughing  train\n",
       "3      --8puiAGLhs             30    car engine starting  train\n",
       "4      --96EN9NUQM            242    alarm clock ringing  train"
      ]
     },
     "execution_count": 5,
     "metadata": {},
     "output_type": "execute_result"
    }
   ],
   "source": [
    "df.head()"
   ]
  },
  {
   "cell_type": "code",
   "execution_count": 6,
   "metadata": {
    "ExecuteTime": {
     "end_time": "2024-04-22T01:46:23.381803Z",
     "start_time": "2024-04-22T01:46:23.249362Z"
    }
   },
   "outputs": [
    {
     "name": "stdout",
     "output_type": "stream",
     "text": [
      "cuda\n"
     ]
    }
   ],
   "source": [
    "device = torch.device(\"cuda\" if torch.cuda.is_available() else \"cpu\")\n",
    "\n",
    "print(device)"
   ]
  },
  {
   "cell_type": "code",
   "execution_count": 7,
   "metadata": {
    "ExecuteTime": {
     "end_time": "2024-04-22T01:46:24.197733Z",
     "start_time": "2024-04-22T01:46:24.191831Z"
    }
   },
   "outputs": [],
   "source": [
    "os.environ[\"TOKENIZERS_PARALLELISM\"] = \"false\" if device == \"cpu\" else \"true\""
   ]
  },
  {
   "cell_type": "code",
   "execution_count": 8,
   "metadata": {
    "ExecuteTime": {
     "end_time": "2024-04-22T01:49:09.980998Z",
     "start_time": "2024-04-22T01:49:09.944688Z"
    },
    "colab": {
     "base_uri": "https://localhost:8080/"
    },
    "id": "tbczws9u5z_X",
    "outputId": "6edbbb56-c736-40e8-b89b-37d79a2545cc"
   },
   "outputs": [],
   "source": [
    "def extract_audio_and_video_within_interval(youtube_video_id, input_video_path, start_time, end_time):\n",
    "    # Load the video clip\n",
    "    video_clip = VideoFileClip(input_video_path)\n",
    "\n",
    "    # Define the subclip with the specified start and end times\n",
    "    subclip = video_clip.subclip(start_time, end_time)\n",
    "\n",
    "    # Extract audio from the subclip\n",
    "    audio_clip = subclip.audio\n",
    "\n",
    "    # Resample the audio to 16 kHz\n",
    "    resampled_audio_clip = audio_clip.set_fps(16000)\n",
    "\n",
    "    # Write the resampled audio to a WAV file\n",
    "    audio_file_path = f\"./data/audio/audio_{youtube_video_id}.wav\"\n",
    "    resampled_audio_clip.write_audiofile(audio_file_path, codec='pcm_s16le')\n",
    "\n",
    "    # Write the video to an MP4 file\n",
    "    video_file_path = f\"./data/video/video_{youtube_video_id}.mp4\"\n",
    "    subclip.write_videofile(video_file_path, codec='libx264')\n",
    "\n",
    "    # Close the clips\n",
    "    video_clip.close()\n",
    "    audio_clip.close()"
   ]
  },
  {
   "cell_type": "code",
   "execution_count": 9,
   "metadata": {
    "ExecuteTime": {
     "end_time": "2024-04-22T01:49:10.878173Z",
     "start_time": "2024-04-22T01:49:10.868438Z"
    }
   },
   "outputs": [],
   "source": [
    "def download_files(youtube_video_id, start_seconds):\n",
    "    print(f\"Starting to download file: {youtube_video_id}\")\n",
    "\n",
    "    # Construct the YouTube video URL\n",
    "    video_url = f\"https://www.youtube.com/watch?v={youtube_video_id}\"\n",
    "\n",
    "    # Initialize a YouTube object with the URL\n",
    "    yt = YouTube(video_url)\n",
    "\n",
    "    downloaded_file = f\"{youtube_video_id}.mp4\"\n",
    "\n",
    "    try:\n",
    "        # Get a stream that includes both video and audio\n",
    "        stream = yt.streams.filter(progressive=True, file_extension='mp4').order_by('resolution').desc().first()\n",
    "\n",
    "        # Download the video\n",
    "        stream.download(output_path=\".\", filename=downloaded_file)\n",
    "\n",
    "        print(f\"Downloaded video: {youtube_video_id}\")\n",
    "\n",
    "        # Specify the start and end times for clipping (in seconds)\n",
    "        input_file_path = downloaded_file\n",
    "        extract_audio_and_video_within_interval(youtube_video_id, input_file_path, start_seconds,\n",
    "                                                start_seconds + TIME_DURATION_IN_SEC)\n",
    "\n",
    "        print(f\"Saved audio and video for: {youtube_video_id}\")\n",
    "\n",
    "    except Exception as e:\n",
    "        print(f\"Error downloading video with YouTube ID {youtube_video_id}: {e}\")\n",
    "\n",
    "    if os.path.exists(f\"./{downloaded_file}\"):\n",
    "        os.remove(f\"./{downloaded_file}\")"
   ]
  },
  {
   "cell_type": "code",
   "execution_count": 10,
   "metadata": {
    "ExecuteTime": {
     "end_time": "2024-04-22T01:49:11.501154Z",
     "start_time": "2024-04-22T01:49:11.493571Z"
    }
   },
   "outputs": [],
   "source": [
    "def extract_audio_video(limit=2):\n",
    "    start_time = datetime.datetime.now()\n",
    "    # Create a ThreadPoolExecutor with 3 worker threads\n",
    "    with concurrent.futures.ThreadPoolExecutor(max_workers=3) as executor:\n",
    "        # Submit each video downloading task for execution asynchronously\n",
    "        futures = [executor.submit(download_files, row['youtube_video_id'], row['start_seconds']) for index, row in\n",
    "                   df.iterrows() if index <= limit]\n",
    "\n",
    "        # Wait for all tasks to complete\n",
    "        concurrent.futures.wait(futures)\n",
    "\n",
    "    end_time = datetime.datetime.now()\n",
    "\n",
    "    total_time = (end_time - start_time) / 60\n",
    "\n",
    "    print(f\"Time taken for download: {total_time} minutes\")"
   ]
  },
  {
   "cell_type": "code",
   "execution_count": 11,
   "metadata": {
    "ExecuteTime": {
     "end_time": "2024-04-22T01:49:12.164432Z",
     "start_time": "2024-04-22T01:49:12.159013Z"
    }
   },
   "outputs": [],
   "source": [
    "count = 5"
   ]
  },
  {
   "cell_type": "code",
   "execution_count": null,
   "metadata": {
    "ExecuteTime": {
     "end_time": "2024-04-22T01:49:52.184666Z",
     "start_time": "2024-04-22T01:49:13.064998Z"
    }
   },
   "outputs": [
    {
     "name": "stdout",
     "output_type": "stream",
     "text": [
      "Starting to download file: --0PQM4-hqg\n",
      "Starting to download file: --56QUhyDQM\n",
      "Starting to download file: --5OkAjCI7g\n",
      "Error downloading video with YouTube ID --5OkAjCI7g: --5OkAjCI7g is a private video\n",
      "Starting to download file: --8puiAGLhs\n",
      "Downloaded video: --0PQM4-hqg\n",
      "Downloaded video: --56QUhyDQM\n",
      "Downloaded video: --8puiAGLhs\n",
      "MoviePy - Writing audio in ./data/audio/audio_--0PQM4-hqg.wav\n"
     ]
    },
    {
     "name": "stderr",
     "output_type": "stream",
     "text": [
      "chunk:   1%|          | 1/81 [00:00<00:00, 263.81it/s, now=None]"
     ]
    },
    {
     "name": "stdout",
     "output_type": "stream",
     "text": [
      "MoviePy - Writing audio in ./data/audio/audio_--56QUhyDQM.wav\n"
     ]
    },
    {
     "name": "stderr",
     "output_type": "stream",
     "text": [
      "\n",
      "                                                                \n",
      "chunk:   1%|          | 1/81 [00:00<00:16,  4.78it/s, now=None]\n",
      "chunk:   1%|          | 1/81 [00:00<00:15,  5.29it/s, now=None]\u001b[A"
     ]
    },
    {
     "name": "stdout",
     "output_type": "stream",
     "text": [
      "MoviePy - Writing audio in ./data/audio/audio_--8puiAGLhs.wav\n"
     ]
    },
    {
     "name": "stderr",
     "output_type": "stream",
     "text": [
      "\n",
      "\n",
      "chunk:   2%|▏         | 2/81 [00:00<00:12,  6.28it/s, now=None]\n",
      "chunk:   2%|▏         | 2/81 [00:00<00:12,  6.12it/s, now=None]\u001b[A\n",
      "\n",
      "chunk:  33%|███▎      | 27/81 [00:00<00:00, 54.23it/s, now=None][A\u001b[A\n",
      "                                                                \u001b[A\n",
      "\n",
      "\u001b[A\u001b[A                                                         \n",
      "\u001b[A                                                             \n",
      "\n",
      "chunk:  32%|███▏      | 26/81 [00:00<00:07,  7.17it/s, now=None]\u001b[A\u001b[A\n",
      "chunk:  52%|█████▏    | 42/81 [00:00<00:00, 53.45it/s, now=None]\u001b[A\n",
      "\n",
      "\u001b[A\u001b[A                                                          \n",
      "\u001b[A                                                             \n",
      "\n",
      "chunk:  32%|███▏      | 26/81 [00:00<00:07,  7.17it/s, now=None]\u001b[A\u001b[A\n",
      "chunk:  56%|█████▌    | 45/81 [00:00<00:00, 53.45it/s, now=None]\u001b[A\n",
      "\n",
      "\u001b[A\u001b[A                                                          \n",
      "\u001b[A                                                             \n",
      "\n",
      "chunk:  32%|███▏      | 26/81 [00:00<00:07,  7.17it/s, now=None]\u001b[A\u001b[A\n",
      "chunk:  70%|███████   | 57/81 [00:00<00:00, 53.45it/s, now=None]\u001b[A"
     ]
    },
    {
     "name": "stdout",
     "output_type": "stream",
     "text": [
      "MoviePy - Done.\n",
      "Moviepy - Building video ./data/video/video_--0PQM4-hqg.mp4.\n",
      "MoviePy - Writing audio in video_--0PQM4-hqgTEMP_MPY_wvf_snd.mp3\n"
     ]
    },
    {
     "name": "stderr",
     "output_type": "stream",
     "text": [
      "chunk:   0%|          | 0/221 [00:00<?, ?it/s, now=None]\n",
      "                                                                \u001b[A\n",
      "\n",
      "chunk:   0%|          | 1/221 [00:00<00:06, 34.70it/s, now=None]\n",
      "\n",
      "                                                                \u001b[A\u001b[A\n",
      "\n",
      "chunk:   0%|          | 1/221 [00:00<00:06, 31.45it/s, now=None]\n",
      "\n",
      "                                                                \u001b[A\u001b[A\n",
      "\n",
      "chunk:   0%|          | 1/221 [00:00<00:08, 27.33it/s, now=None]\n",
      "\n",
      "chunk:  32%|███▏      | 26/81 [00:00<00:07,  7.17it/s, now=None]\u001b[A\u001b[A"
     ]
    },
    {
     "name": "stdout",
     "output_type": "stream",
     "text": [
      "MoviePy - Done.\n",
      "Moviepy - Building video ./data/video/video_--56QUhyDQM.mp4.\n",
      "MoviePy - Writing audio in video_--56QUhyDQMTEMP_MPY_wvf_snd.mp3\n"
     ]
    },
    {
     "name": "stderr",
     "output_type": "stream",
     "text": [
      "\n",
      "chunk:   0%|          | 0/221 [00:00<?, ?it/s, now=None]\u001b[A\n",
      "\n",
      "chunk:  33%|███▎      | 27/81 [00:00<00:01, 47.71it/s, now=None]\u001b[A\u001b[A\n",
      "\n",
      "                                                                \u001b[A\u001b[A\n",
      "chunk:   0%|          | 1/221 [00:00<00:51,  4.24it/s, now=None]\n",
      "                                                                \u001b[A\n",
      "chunk:   0%|          | 1/221 [00:00<00:53,  4.12it/s, now=None]\n",
      "                                                                \u001b[A\n",
      "chunk:   0%|          | 1/221 [00:00<00:54,  4.04it/s, now=None]\n",
      "chunk:   0%|          | 1/221 [00:00<00:41,  5.28it/s, now=None]\u001b[A"
     ]
    },
    {
     "name": "stdout",
     "output_type": "stream",
     "text": [
      "MoviePy - Done.\n",
      "Moviepy - Building video ./data/video/video_--8puiAGLhs.mp4.\n",
      "MoviePy - Writing audio in video_--8puiAGLhsTEMP_MPY_wvf_snd.mp3\n"
     ]
    },
    {
     "name": "stderr",
     "output_type": "stream",
     "text": [
      "\n",
      "\n",
      "chunk:   1%|          | 2/221 [00:00<00:38,  5.75it/s, now=None]\n",
      "chunk:   1%|          | 2/221 [00:00<00:35,  6.21it/s, now=None]\u001b[A\n",
      "\n",
      "chunk:  14%|█▍        | 32/221 [00:00<00:03, 61.95it/s, now=None][A\u001b[A\n",
      "chunk:  41%|████      | 90/221 [00:00<00:00, 174.72it/s, now=None][A\n",
      "chunk:  66%|██████▌   | 146/221 [00:00<00:00, 263.70it/s, now=None][A\n",
      "                                                                   \u001b[A\n",
      "chunk:  74%|███████▍  | 164/221 [00:00<00:00, 271.53it/s, now=None]\u001b[A\n",
      "\n",
      "\u001b[A\u001b[A                                                          \n",
      "\u001b[A                                                                \n",
      "\n",
      "chunk:  14%|█▍        | 31/221 [00:00<00:25,  7.35it/s, now=None]\u001b[A\u001b[A\n",
      "chunk:  77%|███████▋  | 170/221 [00:00<00:00, 271.53it/s, now=None]\u001b[A\n",
      "\n",
      "\u001b[A\u001b[A                                                           \n",
      "\u001b[A                                                                \n",
      "\n",
      "chunk:  14%|█▍        | 31/221 [00:00<00:25,  7.35it/s, now=None]\u001b[A\u001b[A\n",
      "chunk:  77%|███████▋  | 170/221 [00:00<00:00, 271.53it/s, now=None]\u001b[A"
     ]
    },
    {
     "name": "stdout",
     "output_type": "stream",
     "text": [
      "MoviePy - Done.\n",
      "Moviepy - Writing video ./data/video/video_--0PQM4-hqg.mp4\n",
      "\n"
     ]
    },
    {
     "name": "stderr",
     "output_type": "stream",
     "text": [
      "t:   0%|          | 0/300 [00:00<?, ?it/s, now=None]\n",
      "chunk:  95%|█████████▌| 210/221 [00:01<00:00, 314.97it/s, now=None]\u001b[A\n",
      "                                                                   \u001b[A\n",
      "\n",
      "t:   4%|▎         | 11/300 [00:00<00:03, 95.37it/s, now=None]    \n",
      "\n",
      "                                                             one]\u001b[A\u001b[A\n",
      "\n",
      "t:   4%|▎         | 11/300 [00:00<00:03, 89.96it/s, now=None]    \n",
      "\n",
      "chunk:  14%|█▍        | 31/221 [00:00<00:25,  7.35it/s, now=None]\u001b[A\u001b[A"
     ]
    },
    {
     "name": "stdout",
     "output_type": "stream",
     "text": [
      "MoviePy - Done.\n",
      "Moviepy - Writing video ./data/video/video_--56QUhyDQM.mp4\n",
      "\n"
     ]
    },
    {
     "name": "stderr",
     "output_type": "stream",
     "text": [
      "\n",
      "t:   0%|          | 0/300 [00:00<?, ?it/s, now=None]\u001b[A\n",
      "\n",
      "chunk:  14%|█▍        | 32/221 [00:00<00:05, 34.75it/s, now=None]\u001b[A\u001b[A\n",
      "\n",
      "chunk:  40%|███▉      | 88/221 [00:01<00:01, 105.17it/s, now=None]\u001b[A\u001b[A\n",
      "\n",
      "chunk:  70%|██████▉   | 154/221 [00:01<00:00, 193.79it/s, now=None]\u001b[A\u001b[A\n",
      "\n",
      "chunk:  96%|█████████▌| 212/221 [00:01<00:00, 265.30it/s, now=None]\u001b[A\u001b[A\n",
      "\n",
      "                                                                   \u001b[A\u001b[A\n",
      "t:   4%|▍         | 12/300 [00:00<00:14, 20.24it/s, now=None]\n",
      "                                                             \u001b[A\n",
      "t:   4%|▍         | 12/300 [00:00<00:14, 20.24it/s, now=None]\n",
      "t:   4%|▍         | 12/300 [00:00<00:14, 20.24it/s, now=None]\u001b[A"
     ]
    },
    {
     "name": "stdout",
     "output_type": "stream",
     "text": [
      "MoviePy - Done.\n",
      "Moviepy - Writing video ./data/video/video_--8puiAGLhs.mp4\n",
      "\n"
     ]
    },
    {
     "name": "stderr",
     "output_type": "stream",
     "text": [
      "\n",
      "\n",
      "t:  12%|█▏        | 35/300 [00:00<00:04, 60.95it/s, now=None]\n",
      "t:   4%|▍         | 12/300 [00:00<00:15, 18.52it/s, now=None]\u001b[A\n",
      "t:  18%|█▊        | 53/300 [00:01<00:04, 55.54it/s, now=None]\u001b[A\n",
      "t:  18%|█▊        | 53/300 [00:01<00:04, 59.35it/s, now=None]\u001b[A\n",
      "\n",
      "t:  21%|██▏       | 64/300 [00:01<00:05, 41.52it/s, now=None]\u001b[A\u001b[A\n",
      "\n",
      "t:  11%|█         | 33/300 [00:00<00:05, 44.92it/s, now=None]\u001b[A\u001b[A\n",
      "t:  21%|██▏       | 64/300 [00:01<00:05, 40.31it/s, now=None]\u001b[A\n",
      "\n",
      "t:  24%|██▍       | 72/300 [00:01<00:07, 32.32it/s, now=None]\u001b[A\u001b[A\n",
      "t:  26%|██▌       | 78/300 [00:02<00:07, 29.71it/s, now=None]\u001b[A"
     ]
    }
   ],
   "source": [
    "extract_audio_video(count)"
   ]
  },
  {
   "cell_type": "code",
   "execution_count": null,
   "metadata": {},
   "outputs": [],
   "source": []
  }
 ],
 "metadata": {
  "accelerator": "GPU",
  "colab": {
   "gpuType": "T4",
   "provenance": []
  },
  "kernelspec": {
   "display_name": "my_env",
   "language": "python",
   "name": "my_env"
  },
  "language_info": {
   "codemirror_mode": {
    "name": "ipython",
    "version": 3
   },
   "file_extension": ".py",
   "mimetype": "text/x-python",
   "name": "python",
   "nbconvert_exporter": "python",
   "pygments_lexer": "ipython3",
   "version": "3.12.2"
  }
 },
 "nbformat": 4,
 "nbformat_minor": 4
}
