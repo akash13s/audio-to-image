{
 "cells": [
  {
   "cell_type": "code",
   "id": "4d91f0b1-db1c-4c29-88a3-b97a4fc65fd6",
   "metadata": {
    "ExecuteTime": {
     "end_time": "2024-04-22T02:04:02.949049Z",
     "start_time": "2024-04-22T02:04:02.932314Z"
    }
   },
   "source": [
    "import os\n",
    "\n",
    "import moviepy.editor as mp\n",
    "import pandas as pd\n",
    "import torch\n",
    "from transformers import CLIPProcessor, CLIPModel"
   ],
   "outputs": [],
   "execution_count": 13
  },
  {
   "cell_type": "code",
   "id": "de456fff-a54b-4f16-af24-dc0dc73356df",
   "metadata": {
    "ExecuteTime": {
     "end_time": "2024-04-22T02:04:02.969860Z",
     "start_time": "2024-04-22T02:04:02.951058Z"
    }
   },
   "source": [
    "TIME_DURATION_IN_SEC = 10\n",
    "CSV_FILE = './vggsound.csv'"
   ],
   "outputs": [],
   "execution_count": 14
  },
  {
   "cell_type": "code",
   "id": "3b0dc544-36ab-48eb-8d18-0b2368b7e5e6",
   "metadata": {
    "ExecuteTime": {
     "end_time": "2024-04-22T02:04:02.977352Z",
     "start_time": "2024-04-22T02:04:02.972375Z"
    }
   },
   "source": [
    "# Rename the columns\n",
    "new_column_names = {\n",
    "    '---g-f_I2yQ': 'youtube_video_id',\n",
    "    '1': 'start_seconds',\n",
    "    'people marching': 'label',\n",
    "    'test': 'split',\n",
    "}"
   ],
   "outputs": [],
   "execution_count": 15
  },
  {
   "cell_type": "code",
   "id": "176a71bc-47e9-4e72-a02a-5b36ee42aae9",
   "metadata": {
    "ExecuteTime": {
     "end_time": "2024-04-22T02:04:03.188644Z",
     "start_time": "2024-04-22T02:04:02.977352Z"
    }
   },
   "source": [
    "# Rename the columns\n",
    "df = pd.read_csv(CSV_FILE)\n",
    "df.rename(columns=new_column_names, inplace=True)"
   ],
   "outputs": [],
   "execution_count": 16
  },
  {
   "cell_type": "code",
   "id": "347bb06b-0b59-4a08-89eb-f1446b65ed31",
   "metadata": {
    "ExecuteTime": {
     "end_time": "2024-04-22T02:04:03.203712Z",
     "start_time": "2024-04-22T02:04:03.189650Z"
    }
   },
   "source": [
    "df.head()"
   ],
   "outputs": [
    {
     "data": {
      "text/plain": [
       "  youtube_video_id  start_seconds                  label  split\n",
       "0      --0PQM4-hqg             30     waterfall burbling  train\n",
       "1      --56QUhyDQM            185         playing tennis  train\n",
       "2      --5OkAjCI7g             40  people belly laughing  train\n",
       "3      --8puiAGLhs             30    car engine starting  train\n",
       "4      --96EN9NUQM            242    alarm clock ringing  train"
      ],
      "text/html": [
       "<div>\n",
       "<style scoped>\n",
       "    .dataframe tbody tr th:only-of-type {\n",
       "        vertical-align: middle;\n",
       "    }\n",
       "\n",
       "    .dataframe tbody tr th {\n",
       "        vertical-align: top;\n",
       "    }\n",
       "\n",
       "    .dataframe thead th {\n",
       "        text-align: right;\n",
       "    }\n",
       "</style>\n",
       "<table border=\"1\" class=\"dataframe\">\n",
       "  <thead>\n",
       "    <tr style=\"text-align: right;\">\n",
       "      <th></th>\n",
       "      <th>youtube_video_id</th>\n",
       "      <th>start_seconds</th>\n",
       "      <th>label</th>\n",
       "      <th>split</th>\n",
       "    </tr>\n",
       "  </thead>\n",
       "  <tbody>\n",
       "    <tr>\n",
       "      <th>0</th>\n",
       "      <td>--0PQM4-hqg</td>\n",
       "      <td>30</td>\n",
       "      <td>waterfall burbling</td>\n",
       "      <td>train</td>\n",
       "    </tr>\n",
       "    <tr>\n",
       "      <th>1</th>\n",
       "      <td>--56QUhyDQM</td>\n",
       "      <td>185</td>\n",
       "      <td>playing tennis</td>\n",
       "      <td>train</td>\n",
       "    </tr>\n",
       "    <tr>\n",
       "      <th>2</th>\n",
       "      <td>--5OkAjCI7g</td>\n",
       "      <td>40</td>\n",
       "      <td>people belly laughing</td>\n",
       "      <td>train</td>\n",
       "    </tr>\n",
       "    <tr>\n",
       "      <th>3</th>\n",
       "      <td>--8puiAGLhs</td>\n",
       "      <td>30</td>\n",
       "      <td>car engine starting</td>\n",
       "      <td>train</td>\n",
       "    </tr>\n",
       "    <tr>\n",
       "      <th>4</th>\n",
       "      <td>--96EN9NUQM</td>\n",
       "      <td>242</td>\n",
       "      <td>alarm clock ringing</td>\n",
       "      <td>train</td>\n",
       "    </tr>\n",
       "  </tbody>\n",
       "</table>\n",
       "</div>"
      ]
     },
     "execution_count": 17,
     "metadata": {},
     "output_type": "execute_result"
    }
   ],
   "execution_count": 17
  },
  {
   "cell_type": "code",
   "id": "04019008-84bb-4b85-a84e-771ae46fe8cf",
   "metadata": {
    "ExecuteTime": {
     "end_time": "2024-04-22T02:04:03.213679Z",
     "start_time": "2024-04-22T02:04:03.205719Z"
    }
   },
   "source": [
    "device = torch.device(\"cuda\" if torch.cuda.is_available() else \"cpu\")\n",
    "\n",
    "print(device)"
   ],
   "outputs": [
    {
     "name": "stdout",
     "output_type": "stream",
     "text": [
      "cuda\n"
     ]
    }
   ],
   "execution_count": 18
  },
  {
   "cell_type": "code",
   "id": "8fbf586b-4d8c-466d-b205-02a42912be12",
   "metadata": {
    "ExecuteTime": {
     "end_time": "2024-04-22T02:04:03.223275Z",
     "start_time": "2024-04-22T02:04:03.215685Z"
    }
   },
   "source": [
    "os.environ[\"TOKENIZERS_PARALLELISM\"] = \"false\" if device == \"cpu\" else \"true\""
   ],
   "outputs": [],
   "execution_count": 19
  },
  {
   "metadata": {
    "ExecuteTime": {
     "end_time": "2024-04-22T02:04:03.232280Z",
     "start_time": "2024-04-22T02:04:03.225283Z"
    }
   },
   "cell_type": "code",
   "source": "CLIP_MODEL_PATH = './data/model'",
   "id": "fea9e560007eb6e2",
   "outputs": [],
   "execution_count": 20
  },
  {
   "metadata": {
    "ExecuteTime": {
     "end_time": "2024-04-22T02:04:09.153352Z",
     "start_time": "2024-04-22T02:04:03.234457Z"
    }
   },
   "cell_type": "code",
   "source": [
    "# Load the CLIP model\n",
    "if not os.path.exists(os.path.join(CLIP_MODEL_PATH, 'clip_model.pt')):\n",
    "    model = CLIPModel.from_pretrained(\"openai/clip-vit-base-patch32\").to(device)\n",
    "    torch.save(model.state_dict(), os.path.join(CLIP_MODEL_PATH, 'clip_model.pt'))\n",
    "else:\n",
    "    model = CLIPModel.from_pretrained(\"openai/clip-vit-base-patch32\")\n",
    "    model.load_state_dict(torch.load(os.path.join(CLIP_MODEL_PATH, 'clip_model.pt')))\n",
    "    model.to(device)"
   ],
   "id": "141e2f00-581c-4ba1-b1b1-197dfab90d9f",
   "outputs": [],
   "execution_count": 21
  },
  {
   "metadata": {
    "ExecuteTime": {
     "end_time": "2024-04-22T02:04:10.135664Z",
     "start_time": "2024-04-22T02:04:09.161363Z"
    }
   },
   "cell_type": "code",
   "source": [
    "# Load CLIP processor\n",
    "if not os.path.exists(os.path.join(CLIP_MODEL_PATH, 'clip_processor')):\n",
    "    processor = CLIPProcessor.from_pretrained(\"openai/clip-vit-base-patch32\")\n",
    "    processor.save_pretrained(os.path.join(CLIP_MODEL_PATH, 'clip_processor'))\n",
    "else:\n",
    "    processor = CLIPProcessor.from_pretrained(os.path.join(CLIP_MODEL_PATH, 'clip_processor'))"
   ],
   "id": "19045bfc4461d49f",
   "outputs": [],
   "execution_count": 22
  },
  {
   "cell_type": "code",
   "id": "562da7d2-af86-4bec-86eb-433f879c566e",
   "metadata": {
    "ExecuteTime": {
     "end_time": "2024-04-22T02:04:10.144733Z",
     "start_time": "2024-04-22T02:04:10.136673Z"
    }
   },
   "source": [
    "def extract_best_frame(limit=5):\n",
    "    for index, row in df.iterrows():\n",
    "        if index < limit:\n",
    "            youtube_video_id = row['youtube_video_id']\n",
    "            label = row['label']\n",
    "            video_file_path = f\"./data/video/video_{youtube_video_id}.mp4\"\n",
    "            audio_file_path = f\"./data/audio/audio_{youtube_video_id}.wav\"\n",
    "            if os.path.exists(audio_file_path) and os.path.exists(video_file_path):\n",
    "                extract_best_image(video_file_path, label, youtube_video_id)"
   ],
   "outputs": [],
   "execution_count": 23
  },
  {
   "cell_type": "code",
   "id": "f81ac5d9-7712-4dd1-bed7-1dc3e2edb182",
   "metadata": {
    "ExecuteTime": {
     "end_time": "2024-04-22T02:04:10.160772Z",
     "start_time": "2024-04-22T02:04:10.148742Z"
    }
   },
   "source": [
    "# Function to extract the best image from a video\n",
    "def extract_best_image(video_path, label, youtube_video_id):\n",
    "    try:\n",
    "        # Load the video\n",
    "        video = mp.VideoFileClip(video_path)\n",
    "        # Extract video frames\n",
    "        frames = [frame for frame in video.iter_frames() if frame is not None]\n",
    "        # Preprocess the text label\n",
    "        inputs = processor(text=[label], images=frames, return_tensors=\"pt\", padding=True).to(device)\n",
    "\n",
    "        # Calculate the similarity scores between the text label and each frame\n",
    "        with torch.no_grad():\n",
    "            outputs = model(**inputs)\n",
    "            logits_per_image = outputs.logits_per_image  # this is the image-text similarity score\n",
    "            best_match_idx = logits_per_image.argmax().item()\n",
    "\n",
    "        # Save the best matching frame as an image\n",
    "        best_frame = frames[best_match_idx]\n",
    "        output_path = f\"./data/image/image_{youtube_video_id}.jpg\"\n",
    "        mp.ImageClip(best_frame).save_frame(output_path)\n",
    "\n",
    "        # Clean up\n",
    "        video.close()\n",
    "    except Exception as e:\n",
    "        print(f\"Error while extracting best frame for video: {youtube_video_id}. Message: {e}\")"
   ],
   "outputs": [],
   "execution_count": 24
  },
  {
   "cell_type": "code",
   "id": "16104fe6-d258-44df-a539-66bc3086c9b2",
   "metadata": {
    "ExecuteTime": {
     "end_time": "2024-04-22T02:04:45.936337Z",
     "start_time": "2024-04-22T02:04:10.162290Z"
    }
   },
   "source": [
    "extract_best_frame(5)"
   ],
   "outputs": [],
   "execution_count": 25
  },
  {
   "cell_type": "code",
   "id": "df80b924-c123-47a9-bd5f-47ec4d614474",
   "metadata": {
    "ExecuteTime": {
     "end_time": "2024-04-22T02:04:45.962184Z",
     "start_time": "2024-04-22T02:04:45.952834Z"
    }
   },
   "source": [],
   "outputs": [],
   "execution_count": 25
  }
 ],
 "metadata": {
  "kernelspec": {
   "display_name": "Python 3 (ipykernel)",
   "language": "python",
   "name": "python3"
  },
  "language_info": {
   "codemirror_mode": {
    "name": "ipython",
    "version": 3
   },
   "file_extension": ".py",
   "mimetype": "text/x-python",
   "name": "python",
   "nbconvert_exporter": "python",
   "pygments_lexer": "ipython3",
   "version": "3.12.2"
  }
 },
 "nbformat": 4,
 "nbformat_minor": 5
}
